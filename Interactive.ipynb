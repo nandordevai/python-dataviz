{
 "metadata": {
  "language_info": {
   "codemirror_mode": {
    "name": "ipython",
    "version": 3
   },
   "file_extension": ".py",
   "mimetype": "text/x-python",
   "name": "python",
   "nbconvert_exporter": "python",
   "pygments_lexer": "ipython3",
   "version": "3.9.0-final"
  },
  "orig_nbformat": 2,
  "kernelspec": {
   "name": "python3",
   "display_name": "Python 3"
  }
 },
 "nbformat": 4,
 "nbformat_minor": 2,
 "cells": [
  {
   "source": [
    "# Interaktív diagramok"
   ],
   "cell_type": "markdown",
   "metadata": {}
  },
  {
   "source": [
    "## Tooltipek"
   ],
   "cell_type": "markdown",
   "metadata": {}
  },
  {
   "cell_type": "code",
   "execution_count": 33,
   "metadata": {},
   "outputs": [],
   "source": [
    "import altair as alt\n",
    "import pandas as pd\n",
    "import numpy as np"
   ]
  },
  {
   "cell_type": "code",
   "execution_count": 34,
   "metadata": {},
   "outputs": [],
   "source": [
    "data = pd.DataFrame({\n",
    "    'x': np.arange(10),\n",
    "    'y': np.random.random(10)\n",
    "})"
   ]
  },
  {
   "cell_type": "code",
   "execution_count": 35,
   "metadata": {},
   "outputs": [
    {
     "output_type": "execute_result",
     "data": {
      "text/html": "\n<div id=\"altair-viz-92bd7612036d4af3b6eb7306e605e202\"></div>\n<script type=\"text/javascript\">\n  (function(spec, embedOpt){\n    let outputDiv = document.currentScript.previousElementSibling;\n    if (outputDiv.id !== \"altair-viz-92bd7612036d4af3b6eb7306e605e202\") {\n      outputDiv = document.getElementById(\"altair-viz-92bd7612036d4af3b6eb7306e605e202\");\n    }\n    const paths = {\n      \"vega\": \"https://cdn.jsdelivr.net/npm//vega@5?noext\",\n      \"vega-lib\": \"https://cdn.jsdelivr.net/npm//vega-lib?noext\",\n      \"vega-lite\": \"https://cdn.jsdelivr.net/npm//vega-lite@4.8.1?noext\",\n      \"vega-embed\": \"https://cdn.jsdelivr.net/npm//vega-embed@6?noext\",\n    };\n\n    function loadScript(lib) {\n      return new Promise(function(resolve, reject) {\n        var s = document.createElement('script');\n        s.src = paths[lib];\n        s.async = true;\n        s.onload = () => resolve(paths[lib]);\n        s.onerror = () => reject(`Error loading script: ${paths[lib]}`);\n        document.getElementsByTagName(\"head\")[0].appendChild(s);\n      });\n    }\n\n    function showError(err) {\n      outputDiv.innerHTML = `<div class=\"error\" style=\"color:red;\">${err}</div>`;\n      throw err;\n    }\n\n    function displayChart(vegaEmbed) {\n      vegaEmbed(outputDiv, spec, embedOpt)\n        .catch(err => showError(`Javascript Error: ${err.message}<br>This usually means there's a typo in your chart specification. See the javascript console for the full traceback.`));\n    }\n\n    if(typeof define === \"function\" && define.amd) {\n      requirejs.config({paths});\n      require([\"vega-embed\"], displayChart, err => showError(`Error loading script: ${err.message}`));\n    } else if (typeof vegaEmbed === \"function\") {\n      displayChart(vegaEmbed);\n    } else {\n      loadScript(\"vega\")\n        .then(() => loadScript(\"vega-lite\"))\n        .then(() => loadScript(\"vega-embed\"))\n        .catch(showError)\n        .then(() => displayChart(vegaEmbed));\n    }\n  })({\"config\": {\"view\": {\"continuousWidth\": 400, \"continuousHeight\": 300}}, \"data\": {\"name\": \"data-8b052115012dd2c83605f38862415584\"}, \"mark\": {\"type\": \"point\", \"size\": 60}, \"encoding\": {\"tooltip\": [{\"type\": \"quantitative\", \"field\": \"x\", \"title\": \"Value of X\"}, {\"type\": \"quantitative\", \"field\": \"y\", \"title\": \"Value of Y\"}], \"x\": {\"type\": \"quantitative\", \"field\": \"x\"}, \"y\": {\"type\": \"quantitative\", \"field\": \"y\"}}, \"$schema\": \"https://vega.github.io/schema/vega-lite/v4.8.1.json\", \"datasets\": {\"data-8b052115012dd2c83605f38862415584\": [{\"x\": 0, \"y\": 0.09800645759812554}, {\"x\": 1, \"y\": 0.9364665869508613}, {\"x\": 2, \"y\": 0.14842422720994786}, {\"x\": 3, \"y\": 0.889298551582921}, {\"x\": 4, \"y\": 0.9683729430899222}, {\"x\": 5, \"y\": 0.47190228326667516}, {\"x\": 6, \"y\": 0.8609829778148473}, {\"x\": 7, \"y\": 0.2253789826614705}, {\"x\": 8, \"y\": 0.9313079124319458}, {\"x\": 9, \"y\": 0.9889215355616418}]}}, {\"mode\": \"vega-lite\"});\n</script>",
      "text/plain": [
       "alt.Chart(...)"
      ]
     },
     "metadata": {},
     "execution_count": 35
    }
   ],
   "source": [
    "alt.Chart(data).mark_point(\n",
    "    size=60\n",
    ").encode(\n",
    "    x='x',\n",
    "    y='y',\n",
    "    tooltip=[\n",
    "        alt.Tooltip(field='x', type='quantitative', title='Value of X'),\n",
    "        alt.Tooltip(field='y', type='quantitative', title='Value of Y')\n",
    "    ]\n",
    ")"
   ]
  },
  {
   "source": [
    "## Brush"
   ],
   "cell_type": "markdown",
   "metadata": {}
  },
  {
   "cell_type": "code",
   "execution_count": 36,
   "metadata": {},
   "outputs": [],
   "source": [
    "data = pd.DataFrame({\n",
    "    'x': np.arange(100),\n",
    "    'y': np.random.random(100)\n",
    "})"
   ]
  },
  {
   "cell_type": "code",
   "execution_count": 37,
   "metadata": {},
   "outputs": [],
   "source": [
    "base = alt.Chart(data).encode(\n",
    "    x='x',\n",
    "    y='y'\n",
    ")"
   ]
  },
  {
   "cell_type": "code",
   "execution_count": 38,
   "metadata": {},
   "outputs": [
    {
     "output_type": "execute_result",
     "data": {
      "text/html": "\n<div id=\"altair-viz-e0b827df909246f19155a84aa877c9fb\"></div>\n<script type=\"text/javascript\">\n  (function(spec, embedOpt){\n    let outputDiv = document.currentScript.previousElementSibling;\n    if (outputDiv.id !== \"altair-viz-e0b827df909246f19155a84aa877c9fb\") {\n      outputDiv = document.getElementById(\"altair-viz-e0b827df909246f19155a84aa877c9fb\");\n    }\n    const paths = {\n      \"vega\": \"https://cdn.jsdelivr.net/npm//vega@5?noext\",\n      \"vega-lib\": \"https://cdn.jsdelivr.net/npm//vega-lib?noext\",\n      \"vega-lite\": \"https://cdn.jsdelivr.net/npm//vega-lite@4.8.1?noext\",\n      \"vega-embed\": \"https://cdn.jsdelivr.net/npm//vega-embed@6?noext\",\n    };\n\n    function loadScript(lib) {\n      return new Promise(function(resolve, reject) {\n        var s = document.createElement('script');\n        s.src = paths[lib];\n        s.async = true;\n        s.onload = () => resolve(paths[lib]);\n        s.onerror = () => reject(`Error loading script: ${paths[lib]}`);\n        document.getElementsByTagName(\"head\")[0].appendChild(s);\n      });\n    }\n\n    function showError(err) {\n      outputDiv.innerHTML = `<div class=\"error\" style=\"color:red;\">${err}</div>`;\n      throw err;\n    }\n\n    function displayChart(vegaEmbed) {\n      vegaEmbed(outputDiv, spec, embedOpt)\n        .catch(err => showError(`Javascript Error: ${err.message}<br>This usually means there's a typo in your chart specification. See the javascript console for the full traceback.`));\n    }\n\n    if(typeof define === \"function\" && define.amd) {\n      requirejs.config({paths});\n      require([\"vega-embed\"], displayChart, err => showError(`Error loading script: ${err.message}`));\n    } else if (typeof vegaEmbed === \"function\") {\n      displayChart(vegaEmbed);\n    } else {\n      loadScript(\"vega\")\n        .then(() => loadScript(\"vega-lite\"))\n        .then(() => loadScript(\"vega-embed\"))\n        .catch(showError)\n        .then(() => displayChart(vegaEmbed));\n    }\n  })({\"config\": {\"view\": {\"continuousWidth\": 400, \"continuousHeight\": 300}}, \"vconcat\": [{\"mark\": \"line\", \"encoding\": {\"x\": {\"type\": \"quantitative\", \"field\": \"x\", \"scale\": {\"domain\": {\"selection\": \"selector011\"}}}, \"y\": {\"type\": \"quantitative\", \"field\": \"y\"}}, \"height\": 250, \"width\": 500}, {\"mark\": \"area\", \"encoding\": {\"x\": {\"type\": \"quantitative\", \"field\": \"x\"}, \"y\": {\"type\": \"quantitative\", \"field\": \"y\"}}, \"height\": 80, \"selection\": {\"selector011\": {\"type\": \"interval\", \"encodings\": [\"x\"]}}, \"width\": 500}], \"data\": {\"name\": \"data-fcfc7b77fcf2f92a7194c5101db12121\"}, \"$schema\": \"https://vega.github.io/schema/vega-lite/v4.8.1.json\", \"datasets\": {\"data-fcfc7b77fcf2f92a7194c5101db12121\": [{\"x\": 0, \"y\": 0.6008601708548426}, {\"x\": 1, \"y\": 0.5437023719046209}, {\"x\": 2, \"y\": 0.17871082837994434}, {\"x\": 3, \"y\": 0.7648519778411649}, {\"x\": 4, \"y\": 0.41637384691005075}, {\"x\": 5, \"y\": 0.42731685378004824}, {\"x\": 6, \"y\": 0.6303278211099748}, {\"x\": 7, \"y\": 0.3495092254118559}, {\"x\": 8, \"y\": 0.22198074988781946}, {\"x\": 9, \"y\": 0.28945967266428974}, {\"x\": 10, \"y\": 0.3527403146815019}, {\"x\": 11, \"y\": 0.23004421485911142}, {\"x\": 12, \"y\": 0.5676581602478739}, {\"x\": 13, \"y\": 0.7247355500097415}, {\"x\": 14, \"y\": 0.18637155331547128}, {\"x\": 15, \"y\": 0.7937692463479399}, {\"x\": 16, \"y\": 0.7958874699333303}, {\"x\": 17, \"y\": 0.4025778903961902}, {\"x\": 18, \"y\": 0.8307164478897803}, {\"x\": 19, \"y\": 0.2788950400837319}, {\"x\": 20, \"y\": 0.6032075577656599}, {\"x\": 21, \"y\": 0.5946972428946968}, {\"x\": 22, \"y\": 0.8033476731339495}, {\"x\": 23, \"y\": 0.9395839719492431}, {\"x\": 24, \"y\": 0.6655668274455852}, {\"x\": 25, \"y\": 0.7598672762576674}, {\"x\": 26, \"y\": 0.3835944739988324}, {\"x\": 27, \"y\": 0.9360861613065316}, {\"x\": 28, \"y\": 0.5544815719339785}, {\"x\": 29, \"y\": 0.42466808667892264}, {\"x\": 30, \"y\": 0.13526012537130705}, {\"x\": 31, \"y\": 0.6424712325396286}, {\"x\": 32, \"y\": 0.34285384805954966}, {\"x\": 33, \"y\": 0.059198045261751986}, {\"x\": 34, \"y\": 0.8875961052046256}, {\"x\": 35, \"y\": 0.8750748333879518}, {\"x\": 36, \"y\": 0.14171166517165956}, {\"x\": 37, \"y\": 0.06015969725845538}, {\"x\": 38, \"y\": 0.19753179344781913}, {\"x\": 39, \"y\": 0.8816072375651542}, {\"x\": 40, \"y\": 0.36680098187491983}, {\"x\": 41, \"y\": 0.9247660876759103}, {\"x\": 42, \"y\": 0.6985971166516294}, {\"x\": 43, \"y\": 0.0858729903746529}, {\"x\": 44, \"y\": 0.9487995275457}, {\"x\": 45, \"y\": 0.5467556415331097}, {\"x\": 46, \"y\": 0.47732234867412504}, {\"x\": 47, \"y\": 0.8850908280986169}, {\"x\": 48, \"y\": 0.24142125164738581}, {\"x\": 49, \"y\": 0.9671342493328258}, {\"x\": 50, \"y\": 0.18431592758147763}, {\"x\": 51, \"y\": 0.6237275443433906}, {\"x\": 52, \"y\": 0.5141608823182982}, {\"x\": 53, \"y\": 0.30358495850633005}, {\"x\": 54, \"y\": 0.19339625982370778}, {\"x\": 55, \"y\": 0.9866000151758259}, {\"x\": 56, \"y\": 0.05969553522231397}, {\"x\": 57, \"y\": 0.8279885751180673}, {\"x\": 58, \"y\": 0.011256340223608774}, {\"x\": 59, \"y\": 0.27066562944295536}, {\"x\": 60, \"y\": 0.4007828785317239}, {\"x\": 61, \"y\": 0.40239577702910445}, {\"x\": 62, \"y\": 0.380775570458712}, {\"x\": 63, \"y\": 0.026978140133021244}, {\"x\": 64, \"y\": 0.46437775986899077}, {\"x\": 65, \"y\": 0.21551296057399882}, {\"x\": 66, \"y\": 0.5243669865324225}, {\"x\": 67, \"y\": 0.3880480764075943}, {\"x\": 68, \"y\": 0.9723908034509394}, {\"x\": 69, \"y\": 0.5632696127555229}, {\"x\": 70, \"y\": 0.9959824216470052}, {\"x\": 71, \"y\": 0.22370961573687387}, {\"x\": 72, \"y\": 0.4358676436806713}, {\"x\": 73, \"y\": 0.01709360821050343}, {\"x\": 74, \"y\": 0.4182016474804058}, {\"x\": 75, \"y\": 0.9266881412740834}, {\"x\": 76, \"y\": 0.6266133104251097}, {\"x\": 77, \"y\": 0.09806314435222019}, {\"x\": 78, \"y\": 0.6358570871891676}, {\"x\": 79, \"y\": 0.6676204650507233}, {\"x\": 80, \"y\": 0.1460108017295506}, {\"x\": 81, \"y\": 0.7416109098524457}, {\"x\": 82, \"y\": 0.901317166153783}, {\"x\": 83, \"y\": 0.8968976068169086}, {\"x\": 84, \"y\": 0.27778096822268117}, {\"x\": 85, \"y\": 0.1642797353361829}, {\"x\": 86, \"y\": 0.2947756556208663}, {\"x\": 87, \"y\": 0.4774845331329701}, {\"x\": 88, \"y\": 0.4459235051222221}, {\"x\": 89, \"y\": 0.49530621767767724}, {\"x\": 90, \"y\": 0.5982787712129604}, {\"x\": 91, \"y\": 0.5469870447587825}, {\"x\": 92, \"y\": 0.6394280039634513}, {\"x\": 93, \"y\": 0.2882945842796215}, {\"x\": 94, \"y\": 0.4228305431467638}, {\"x\": 95, \"y\": 0.30712569928340505}, {\"x\": 96, \"y\": 0.5366090925532528}, {\"x\": 97, \"y\": 0.6717863807452861}, {\"x\": 98, \"y\": 0.36048235937009154}, {\"x\": 99, \"y\": 0.7724762083471963}]}}, {\"mode\": \"vega-lite\"});\n</script>",
      "text/plain": [
       "alt.VConcatChart(...)"
      ]
     },
     "metadata": {},
     "execution_count": 38
    }
   ],
   "source": [
    "brush = alt.selection(\n",
    "    type='interval', \n",
    "    encodings=['x']\n",
    ")\n",
    "\n",
    "upper = base.encode(\n",
    "    alt.X('x', scale=alt.Scale(domain=brush))\n",
    ").properties(\n",
    "    width=500, \n",
    "    height=250\n",
    ").mark_line()\n",
    "\n",
    "lower = base.properties(\n",
    "    width=500, \n",
    "    height=80\n",
    ").add_selection(brush).mark_area()\n",
    "\n",
    "upper & lower"
   ]
  },
  {
   "cell_type": "code",
   "execution_count": null,
   "metadata": {},
   "outputs": [],
   "source": []
  }
 ]
}