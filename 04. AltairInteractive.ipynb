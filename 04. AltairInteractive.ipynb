{
 "metadata": {
  "language_info": {
   "codemirror_mode": {
    "name": "ipython",
    "version": 3
   },
   "file_extension": ".py",
   "mimetype": "text/x-python",
   "name": "python",
   "nbconvert_exporter": "python",
   "pygments_lexer": "ipython3",
   "version": "3.9.0-final"
  },
  "orig_nbformat": 2,
  "kernelspec": {
   "name": "python3",
   "display_name": "Python 3"
  }
 },
 "nbformat": 4,
 "nbformat_minor": 2,
 "cells": [
  {
   "source": [
    "# Interaktív diagramok"
   ],
   "cell_type": "markdown",
   "metadata": {}
  },
  {
   "source": [
    "## Tooltipek"
   ],
   "cell_type": "markdown",
   "metadata": {}
  },
  {
   "cell_type": "code",
   "execution_count": 10,
   "metadata": {},
   "outputs": [],
   "source": [
    "import altair as alt\n",
    "import pandas as pd\n",
    "import numpy as np"
   ]
  },
  {
   "cell_type": "code",
   "execution_count": 11,
   "metadata": {},
   "outputs": [
    {
     "output_type": "execute_result",
     "data": {
      "text/plain": [
       "   x         y\n",
       "0  0  0.115562\n",
       "1  1  0.634512\n",
       "2  2  0.417138\n",
       "3  3  0.852323\n",
       "4  4  0.237231\n",
       "5  5  0.209969\n",
       "6  6  0.566755\n",
       "7  7  0.092939\n",
       "8  8  0.979594\n",
       "9  9  0.627248"
      ],
      "text/html": "<div>\n<style scoped>\n    .dataframe tbody tr th:only-of-type {\n        vertical-align: middle;\n    }\n\n    .dataframe tbody tr th {\n        vertical-align: top;\n    }\n\n    .dataframe thead th {\n        text-align: right;\n    }\n</style>\n<table border=\"1\" class=\"dataframe\">\n  <thead>\n    <tr style=\"text-align: right;\">\n      <th></th>\n      <th>x</th>\n      <th>y</th>\n    </tr>\n  </thead>\n  <tbody>\n    <tr>\n      <th>0</th>\n      <td>0</td>\n      <td>0.115562</td>\n    </tr>\n    <tr>\n      <th>1</th>\n      <td>1</td>\n      <td>0.634512</td>\n    </tr>\n    <tr>\n      <th>2</th>\n      <td>2</td>\n      <td>0.417138</td>\n    </tr>\n    <tr>\n      <th>3</th>\n      <td>3</td>\n      <td>0.852323</td>\n    </tr>\n    <tr>\n      <th>4</th>\n      <td>4</td>\n      <td>0.237231</td>\n    </tr>\n    <tr>\n      <th>5</th>\n      <td>5</td>\n      <td>0.209969</td>\n    </tr>\n    <tr>\n      <th>6</th>\n      <td>6</td>\n      <td>0.566755</td>\n    </tr>\n    <tr>\n      <th>7</th>\n      <td>7</td>\n      <td>0.092939</td>\n    </tr>\n    <tr>\n      <th>8</th>\n      <td>8</td>\n      <td>0.979594</td>\n    </tr>\n    <tr>\n      <th>9</th>\n      <td>9</td>\n      <td>0.627248</td>\n    </tr>\n  </tbody>\n</table>\n</div>"
     },
     "metadata": {},
     "execution_count": 11
    }
   ],
   "source": [
    "data = pd.DataFrame({\n",
    "    'x': np.arange(10),\n",
    "    'y': np.random.random(10)\n",
    "})\n",
    "data"
   ]
  },
  {
   "cell_type": "code",
   "execution_count": 12,
   "metadata": {},
   "outputs": [
    {
     "output_type": "execute_result",
     "data": {
      "text/html": "\n<div id=\"altair-viz-7a2631ed5de74e96bfa0e8f7ac32bab3\"></div>\n<script type=\"text/javascript\">\n  (function(spec, embedOpt){\n    let outputDiv = document.currentScript.previousElementSibling;\n    if (outputDiv.id !== \"altair-viz-7a2631ed5de74e96bfa0e8f7ac32bab3\") {\n      outputDiv = document.getElementById(\"altair-viz-7a2631ed5de74e96bfa0e8f7ac32bab3\");\n    }\n    const paths = {\n      \"vega\": \"https://cdn.jsdelivr.net/npm//vega@5?noext\",\n      \"vega-lib\": \"https://cdn.jsdelivr.net/npm//vega-lib?noext\",\n      \"vega-lite\": \"https://cdn.jsdelivr.net/npm//vega-lite@4.8.1?noext\",\n      \"vega-embed\": \"https://cdn.jsdelivr.net/npm//vega-embed@6?noext\",\n    };\n\n    function loadScript(lib) {\n      return new Promise(function(resolve, reject) {\n        var s = document.createElement('script');\n        s.src = paths[lib];\n        s.async = true;\n        s.onload = () => resolve(paths[lib]);\n        s.onerror = () => reject(`Error loading script: ${paths[lib]}`);\n        document.getElementsByTagName(\"head\")[0].appendChild(s);\n      });\n    }\n\n    function showError(err) {\n      outputDiv.innerHTML = `<div class=\"error\" style=\"color:red;\">${err}</div>`;\n      throw err;\n    }\n\n    function displayChart(vegaEmbed) {\n      vegaEmbed(outputDiv, spec, embedOpt)\n        .catch(err => showError(`Javascript Error: ${err.message}<br>This usually means there's a typo in your chart specification. See the javascript console for the full traceback.`));\n    }\n\n    if(typeof define === \"function\" && define.amd) {\n      requirejs.config({paths});\n      require([\"vega-embed\"], displayChart, err => showError(`Error loading script: ${err.message}`));\n    } else if (typeof vegaEmbed === \"function\") {\n      displayChart(vegaEmbed);\n    } else {\n      loadScript(\"vega\")\n        .then(() => loadScript(\"vega-lite\"))\n        .then(() => loadScript(\"vega-embed\"))\n        .catch(showError)\n        .then(() => displayChart(vegaEmbed));\n    }\n  })({\"config\": {\"view\": {\"continuousWidth\": 400, \"continuousHeight\": 300}}, \"data\": {\"name\": \"data-1b34e13edec380321f6b4a1b06eda2e5\"}, \"mark\": {\"type\": \"point\", \"size\": 60}, \"encoding\": {\"tooltip\": [{\"type\": \"quantitative\", \"field\": \"x\", \"title\": \"Value of X\"}, {\"type\": \"quantitative\", \"field\": \"y\", \"title\": \"Value of Y\"}], \"x\": {\"type\": \"quantitative\", \"field\": \"x\"}, \"y\": {\"type\": \"quantitative\", \"field\": \"y\"}}, \"$schema\": \"https://vega.github.io/schema/vega-lite/v4.8.1.json\", \"datasets\": {\"data-1b34e13edec380321f6b4a1b06eda2e5\": [{\"x\": 0, \"y\": 0.11556247514731066}, {\"x\": 1, \"y\": 0.6345115798872175}, {\"x\": 2, \"y\": 0.4171383948270042}, {\"x\": 3, \"y\": 0.8523227112049787}, {\"x\": 4, \"y\": 0.2372308933687467}, {\"x\": 5, \"y\": 0.209968753143859}, {\"x\": 6, \"y\": 0.5667552346420075}, {\"x\": 7, \"y\": 0.09293879644649972}, {\"x\": 8, \"y\": 0.9795937545465297}, {\"x\": 9, \"y\": 0.6272477176132201}]}}, {\"mode\": \"vega-lite\"});\n</script>",
      "text/plain": [
       "alt.Chart(...)"
      ]
     },
     "metadata": {},
     "execution_count": 12
    }
   ],
   "source": [
    "alt.Chart(data).mark_point(\n",
    "    size=60\n",
    ").encode(\n",
    "    x='x',\n",
    "    y='y',\n",
    "    tooltip=[\n",
    "        alt.Tooltip(field='x', type='quantitative', title='Value of X'),\n",
    "        alt.Tooltip(field='y', type='quantitative', title='Value of Y')\n",
    "    ]\n",
    ")"
   ]
  },
  {
   "source": [
    "## Kiválasztás"
   ],
   "cell_type": "markdown",
   "metadata": {}
  },
  {
   "cell_type": "code",
   "execution_count": 14,
   "metadata": {},
   "outputs": [
    {
     "output_type": "execute_result",
     "data": {
      "text/html": "\n<div id=\"altair-viz-fea5402e83ea44f2942f4d884762c4f9\"></div>\n<script type=\"text/javascript\">\n  (function(spec, embedOpt){\n    let outputDiv = document.currentScript.previousElementSibling;\n    if (outputDiv.id !== \"altair-viz-fea5402e83ea44f2942f4d884762c4f9\") {\n      outputDiv = document.getElementById(\"altair-viz-fea5402e83ea44f2942f4d884762c4f9\");\n    }\n    const paths = {\n      \"vega\": \"https://cdn.jsdelivr.net/npm//vega@5?noext\",\n      \"vega-lib\": \"https://cdn.jsdelivr.net/npm//vega-lib?noext\",\n      \"vega-lite\": \"https://cdn.jsdelivr.net/npm//vega-lite@4.8.1?noext\",\n      \"vega-embed\": \"https://cdn.jsdelivr.net/npm//vega-embed@6?noext\",\n    };\n\n    function loadScript(lib) {\n      return new Promise(function(resolve, reject) {\n        var s = document.createElement('script');\n        s.src = paths[lib];\n        s.async = true;\n        s.onload = () => resolve(paths[lib]);\n        s.onerror = () => reject(`Error loading script: ${paths[lib]}`);\n        document.getElementsByTagName(\"head\")[0].appendChild(s);\n      });\n    }\n\n    function showError(err) {\n      outputDiv.innerHTML = `<div class=\"error\" style=\"color:red;\">${err}</div>`;\n      throw err;\n    }\n\n    function displayChart(vegaEmbed) {\n      vegaEmbed(outputDiv, spec, embedOpt)\n        .catch(err => showError(`Javascript Error: ${err.message}<br>This usually means there's a typo in your chart specification. See the javascript console for the full traceback.`));\n    }\n\n    if(typeof define === \"function\" && define.amd) {\n      requirejs.config({paths});\n      require([\"vega-embed\"], displayChart, err => showError(`Error loading script: ${err.message}`));\n    } else if (typeof vegaEmbed === \"function\") {\n      displayChart(vegaEmbed);\n    } else {\n      loadScript(\"vega\")\n        .then(() => loadScript(\"vega-lite\"))\n        .then(() => loadScript(\"vega-embed\"))\n        .catch(showError)\n        .then(() => displayChart(vegaEmbed));\n    }\n  })({\"config\": {\"view\": {\"continuousWidth\": 400, \"continuousHeight\": 300}}, \"data\": {\"name\": \"data-1b34e13edec380321f6b4a1b06eda2e5\"}, \"mark\": {\"type\": \"bar\", \"size\": 30}, \"encoding\": {\"color\": {\"condition\": {\"value\": \"#16a\", \"selection\": \"selector005\"}, \"value\": \"#ccc\"}, \"x\": {\"type\": \"quantitative\", \"field\": \"x\"}, \"y\": {\"type\": \"quantitative\", \"field\": \"y\"}}, \"selection\": {\"selector005\": {\"type\": \"single\", \"init\": {\"x\": 0}}}, \"$schema\": \"https://vega.github.io/schema/vega-lite/v4.8.1.json\", \"datasets\": {\"data-1b34e13edec380321f6b4a1b06eda2e5\": [{\"x\": 0, \"y\": 0.11556247514731066}, {\"x\": 1, \"y\": 0.6345115798872175}, {\"x\": 2, \"y\": 0.4171383948270042}, {\"x\": 3, \"y\": 0.8523227112049787}, {\"x\": 4, \"y\": 0.2372308933687467}, {\"x\": 5, \"y\": 0.209968753143859}, {\"x\": 6, \"y\": 0.5667552346420075}, {\"x\": 7, \"y\": 0.09293879644649972}, {\"x\": 8, \"y\": 0.9795937545465297}, {\"x\": 9, \"y\": 0.6272477176132201}]}}, {\"mode\": \"vega-lite\"});\n</script>",
      "text/plain": [
       "alt.Chart(...)"
      ]
     },
     "metadata": {},
     "execution_count": 14
    }
   ],
   "source": [
    "selector = alt.selection(\n",
    "    type='single',\n",
    "    init={'x': 0}\n",
    ")\n",
    "\n",
    "alt.Chart(data).mark_bar(\n",
    "    size=30\n",
    ").encode(\n",
    "    x='x',\n",
    "    y='y',\n",
    "    color=alt.condition(\n",
    "        selector, \n",
    "        alt.ColorValue('#16a'), \n",
    "        alt.ColorValue('#ccc')\n",
    "    )\n",
    ").add_selection(selector)"
   ]
  },
  {
   "source": [
    "## Brush"
   ],
   "cell_type": "markdown",
   "metadata": {}
  },
  {
   "cell_type": "code",
   "execution_count": 15,
   "metadata": {},
   "outputs": [],
   "source": [
    "data = pd.DataFrame({\n",
    "    'x': np.arange(100),\n",
    "    'y': np.random.random(100)\n",
    "})"
   ]
  },
  {
   "cell_type": "code",
   "execution_count": 16,
   "metadata": {},
   "outputs": [],
   "source": [
    "base = alt.Chart(data).encode(\n",
    "    x='x',\n",
    "    y='y'\n",
    ")"
   ]
  },
  {
   "cell_type": "code",
   "execution_count": 23,
   "metadata": {},
   "outputs": [
    {
     "output_type": "execute_result",
     "data": {
      "text/html": "\n<div id=\"altair-viz-e282d442fa904c21b023d2c695040cda\"></div>\n<script type=\"text/javascript\">\n  (function(spec, embedOpt){\n    let outputDiv = document.currentScript.previousElementSibling;\n    if (outputDiv.id !== \"altair-viz-e282d442fa904c21b023d2c695040cda\") {\n      outputDiv = document.getElementById(\"altair-viz-e282d442fa904c21b023d2c695040cda\");\n    }\n    const paths = {\n      \"vega\": \"https://cdn.jsdelivr.net/npm//vega@5?noext\",\n      \"vega-lib\": \"https://cdn.jsdelivr.net/npm//vega-lib?noext\",\n      \"vega-lite\": \"https://cdn.jsdelivr.net/npm//vega-lite@4.8.1?noext\",\n      \"vega-embed\": \"https://cdn.jsdelivr.net/npm//vega-embed@6?noext\",\n    };\n\n    function loadScript(lib) {\n      return new Promise(function(resolve, reject) {\n        var s = document.createElement('script');\n        s.src = paths[lib];\n        s.async = true;\n        s.onload = () => resolve(paths[lib]);\n        s.onerror = () => reject(`Error loading script: ${paths[lib]}`);\n        document.getElementsByTagName(\"head\")[0].appendChild(s);\n      });\n    }\n\n    function showError(err) {\n      outputDiv.innerHTML = `<div class=\"error\" style=\"color:red;\">${err}</div>`;\n      throw err;\n    }\n\n    function displayChart(vegaEmbed) {\n      vegaEmbed(outputDiv, spec, embedOpt)\n        .catch(err => showError(`Javascript Error: ${err.message}<br>This usually means there's a typo in your chart specification. See the javascript console for the full traceback.`));\n    }\n\n    if(typeof define === \"function\" && define.amd) {\n      requirejs.config({paths});\n      require([\"vega-embed\"], displayChart, err => showError(`Error loading script: ${err.message}`));\n    } else if (typeof vegaEmbed === \"function\") {\n      displayChart(vegaEmbed);\n    } else {\n      loadScript(\"vega\")\n        .then(() => loadScript(\"vega-lite\"))\n        .then(() => loadScript(\"vega-embed\"))\n        .catch(showError)\n        .then(() => displayChart(vegaEmbed));\n    }\n  })({\"config\": {\"view\": {\"continuousWidth\": 400, \"continuousHeight\": 300}}, \"vconcat\": [{\"mark\": \"line\", \"encoding\": {\"x\": {\"type\": \"quantitative\", \"field\": \"x\", \"scale\": {\"domain\": {\"selection\": \"selector012\"}}}, \"y\": {\"type\": \"quantitative\", \"field\": \"y\"}}, \"height\": 250, \"width\": 500}, {\"mark\": \"area\", \"encoding\": {\"x\": {\"type\": \"quantitative\", \"field\": \"x\"}, \"y\": {\"type\": \"quantitative\", \"field\": \"y\"}}, \"height\": 80, \"selection\": {\"selector012\": {\"type\": \"interval\", \"encodings\": [\"x\"], \"init\": {\"x\": [10, 20]}}}, \"width\": 500}], \"data\": {\"name\": \"data-0f669c202e906f331022f30b3cb3dd9e\"}, \"$schema\": \"https://vega.github.io/schema/vega-lite/v4.8.1.json\", \"datasets\": {\"data-0f669c202e906f331022f30b3cb3dd9e\": [{\"x\": 0, \"y\": 0.7971950545247206}, {\"x\": 1, \"y\": 0.2454113135892908}, {\"x\": 2, \"y\": 0.9129156462886027}, {\"x\": 3, \"y\": 0.9340522725298226}, {\"x\": 4, \"y\": 0.17923512245390738}, {\"x\": 5, \"y\": 0.7643206992035542}, {\"x\": 6, \"y\": 0.42160364890154045}, {\"x\": 7, \"y\": 0.5038091610809158}, {\"x\": 8, \"y\": 0.05475852636315215}, {\"x\": 9, \"y\": 0.0814218493154486}, {\"x\": 10, \"y\": 0.8275841003559279}, {\"x\": 11, \"y\": 0.06742231654070419}, {\"x\": 12, \"y\": 0.5412886793754841}, {\"x\": 13, \"y\": 0.6418544573617937}, {\"x\": 14, \"y\": 0.5351392585543561}, {\"x\": 15, \"y\": 0.2218338572086529}, {\"x\": 16, \"y\": 0.1738303626033746}, {\"x\": 17, \"y\": 0.25521756729669054}, {\"x\": 18, \"y\": 0.6791517602815459}, {\"x\": 19, \"y\": 0.135331675803823}, {\"x\": 20, \"y\": 0.19759831799159688}, {\"x\": 21, \"y\": 0.538091716210602}, {\"x\": 22, \"y\": 0.2700711057153453}, {\"x\": 23, \"y\": 0.4727356103712185}, {\"x\": 24, \"y\": 0.391964597687664}, {\"x\": 25, \"y\": 0.9326650372461738}, {\"x\": 26, \"y\": 0.8374770356934506}, {\"x\": 27, \"y\": 0.783920196440155}, {\"x\": 28, \"y\": 0.9414381734056596}, {\"x\": 29, \"y\": 0.6379636491083498}, {\"x\": 30, \"y\": 0.47846444085166584}, {\"x\": 31, \"y\": 0.054451597090846016}, {\"x\": 32, \"y\": 0.13780131533586426}, {\"x\": 33, \"y\": 0.7850172090727798}, {\"x\": 34, \"y\": 0.6795511757188345}, {\"x\": 35, \"y\": 0.15488898920304484}, {\"x\": 36, \"y\": 0.22093952426845076}, {\"x\": 37, \"y\": 0.32274672640784774}, {\"x\": 38, \"y\": 0.42225267163077906}, {\"x\": 39, \"y\": 0.7119991703732035}, {\"x\": 40, \"y\": 0.3898274178700156}, {\"x\": 41, \"y\": 0.9515475244135948}, {\"x\": 42, \"y\": 0.5183082903554539}, {\"x\": 43, \"y\": 0.5197189661163352}, {\"x\": 44, \"y\": 0.7690784668783568}, {\"x\": 45, \"y\": 0.34623249112068344}, {\"x\": 46, \"y\": 0.41090718858965347}, {\"x\": 47, \"y\": 0.5092259029149697}, {\"x\": 48, \"y\": 0.5590339725465795}, {\"x\": 49, \"y\": 0.2749930635077945}, {\"x\": 50, \"y\": 0.28498016723856645}, {\"x\": 51, \"y\": 0.683364399113365}, {\"x\": 52, \"y\": 0.3167120556985904}, {\"x\": 53, \"y\": 0.47493856284515323}, {\"x\": 54, \"y\": 0.86690786029216}, {\"x\": 55, \"y\": 0.19087864151603584}, {\"x\": 56, \"y\": 0.6565045233388225}, {\"x\": 57, \"y\": 0.258538749034835}, {\"x\": 58, \"y\": 0.7614455044222457}, {\"x\": 59, \"y\": 0.027313282005757}, {\"x\": 60, \"y\": 0.6221139442647534}, {\"x\": 61, \"y\": 0.9781349599933136}, {\"x\": 62, \"y\": 0.8793799065342998}, {\"x\": 63, \"y\": 0.2517107908713745}, {\"x\": 64, \"y\": 0.31208108369899223}, {\"x\": 65, \"y\": 0.7753561265291828}, {\"x\": 66, \"y\": 0.30582686591197417}, {\"x\": 67, \"y\": 0.9353063868476195}, {\"x\": 68, \"y\": 0.4569319102603622}, {\"x\": 69, \"y\": 0.7482610969030092}, {\"x\": 70, \"y\": 0.46509269776362017}, {\"x\": 71, \"y\": 0.2633240002311059}, {\"x\": 72, \"y\": 0.1895885541853093}, {\"x\": 73, \"y\": 0.4089334127887261}, {\"x\": 74, \"y\": 0.1492639946228248}, {\"x\": 75, \"y\": 0.7547710654624564}, {\"x\": 76, \"y\": 0.2824054202855165}, {\"x\": 77, \"y\": 0.3927515904824359}, {\"x\": 78, \"y\": 0.4682950570107298}, {\"x\": 79, \"y\": 0.031048907171730034}, {\"x\": 80, \"y\": 0.10221370960309928}, {\"x\": 81, \"y\": 0.5594923614125589}, {\"x\": 82, \"y\": 0.22312823069627963}, {\"x\": 83, \"y\": 0.3092289572325997}, {\"x\": 84, \"y\": 0.8780531462050416}, {\"x\": 85, \"y\": 0.8237779373466203}, {\"x\": 86, \"y\": 0.7450258884630458}, {\"x\": 87, \"y\": 0.9194244292356308}, {\"x\": 88, \"y\": 0.5691679886229046}, {\"x\": 89, \"y\": 0.7457219820057607}, {\"x\": 90, \"y\": 0.2784585438193361}, {\"x\": 91, \"y\": 0.06234630456506818}, {\"x\": 92, \"y\": 0.310763455728573}, {\"x\": 93, \"y\": 0.9513960669777255}, {\"x\": 94, \"y\": 0.460492979520676}, {\"x\": 95, \"y\": 0.04763751964800744}, {\"x\": 96, \"y\": 0.8429748595719031}, {\"x\": 97, \"y\": 0.6784141717755179}, {\"x\": 98, \"y\": 0.30276309774189214}, {\"x\": 99, \"y\": 0.9823259640736942}]}}, {\"mode\": \"vega-lite\"});\n</script>",
      "text/plain": [
       "alt.VConcatChart(...)"
      ]
     },
     "metadata": {},
     "execution_count": 23
    }
   ],
   "source": [
    "brush = alt.selection(\n",
    "    type='interval', \n",
    "    encodings=['x'],\n",
    "    init={'x': [10, 20]}\n",
    ")\n",
    "\n",
    "upper = base.mark_line().encode(\n",
    "    alt.X('x', scale=alt.Scale(domain=brush))\n",
    ").properties(\n",
    "    width=500, \n",
    "    height=250\n",
    ")\n",
    "\n",
    "lower = base.mark_area().properties(\n",
    "    width=500, \n",
    "    height=80\n",
    ").add_selection(brush)\n",
    "\n",
    "upper & lower"
   ]
  },
  {
   "cell_type": "code",
   "execution_count": null,
   "metadata": {},
   "outputs": [],
   "source": []
  }
 ]
}