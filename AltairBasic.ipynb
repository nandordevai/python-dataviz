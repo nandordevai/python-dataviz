{
 "cells": [
  {
   "source": [
    "# Altair alapok"
   ],
   "cell_type": "markdown",
   "metadata": {}
  },
  {
   "cell_type": "code",
   "execution_count": 2,
   "metadata": {},
   "outputs": [],
   "source": [
    "import pandas as pd\n",
    "import numpy as np\n",
    "import altair as alt"
   ]
  },
  {
   "cell_type": "code",
   "execution_count": 10,
   "metadata": {},
   "outputs": [],
   "source": [
    "planets = pd.read_csv(\n",
    "    'planets-moons.csv', \n",
    "    dtype={\n",
    "        'name': np.str, \n",
    "        'distance': np.float, \n",
    "        'diameter': np.int, \n",
    "        'moons': np.int\n",
    "    }\n",
    ")"
   ]
  },
  {
   "source": [
    "## Marks & encodings"
   ],
   "cell_type": "markdown",
   "metadata": {}
  },
  {
   "cell_type": "code",
   "execution_count": 4,
   "metadata": {},
   "outputs": [],
   "source": [
    "chart = alt.Chart(planets).mark_point().encode(\n",
    "    x='name:N',\n",
    "    y='diameter:Q'\n",
    ")"
   ]
  },
  {
   "cell_type": "code",
   "execution_count": 5,
   "metadata": {},
   "outputs": [
    {
     "output_type": "execute_result",
     "data": {
      "text/plain": [
       "{'config': {'view': {'continuousWidth': 400, 'continuousHeight': 300}},\n",
       " 'data': {'name': 'data-32e6086e956f7bd038a2cd26349dfd84'},\n",
       " 'mark': 'point',\n",
       " 'encoding': {'x': {'type': 'nominal', 'field': 'name'},\n",
       "  'y': {'type': 'quantitative', 'field': 'diameter'}},\n",
       " '$schema': 'https://vega.github.io/schema/vega-lite/v4.8.1.json',\n",
       " 'datasets': {'data-32e6086e956f7bd038a2cd26349dfd84': [{'name': 'Mercury',\n",
       "    'diameter': 4879,\n",
       "    'distance': 57.91,\n",
       "    'moons': 0},\n",
       "   {'name': 'Venus', 'diameter': 12104, 'distance': 108.2, 'moons': 0},\n",
       "   {'name': 'Earth', 'diameter': 12742, 'distance': 149.6, 'moons': 1},\n",
       "   {'name': 'Mars', 'diameter': 6779, 'distance': 227.9, 'moons': 2},\n",
       "   {'name': 'Ceres', 'diameter': 950, 'distance': 414.3, 'moons': 0},\n",
       "   {'name': 'Jupiter', 'diameter': 139822, 'distance': 778.5, 'moons': 79},\n",
       "   {'name': 'Saturn', 'diameter': 116464, 'distance': 1434.0, 'moons': 82},\n",
       "   {'name': 'Uranus', 'diameter': 50724, 'distance': 2871.0, 'moons': 27},\n",
       "   {'name': 'Neptune', 'diameter': 4495, 'distance': 49244.0, 'moons': 14},\n",
       "   {'name': 'Pluto', 'diameter': 2374, 'distance': 5906.4, 'moons': 5},\n",
       "   {'name': 'Haumea', 'diameter': 1960, 'distance': 6459.9, 'moons': 2},\n",
       "   {'name': 'Makemake', 'diameter': 1434, 'distance': 6796.2, 'moons': 1},\n",
       "   {'name': 'Eris', 'diameter': 2326, 'distance': 10152.0, 'moons': 1}]}}"
      ]
     },
     "metadata": {},
     "execution_count": 5
    }
   ],
   "source": [
    "chart.to_dict()"
   ]
  },
  {
   "cell_type": "code",
   "execution_count": 6,
   "metadata": {},
   "outputs": [
    {
     "output_type": "execute_result",
     "data": {
      "text/html": "\n<div id=\"altair-viz-b0dd21afafb9447b9a34963f010a8917\"></div>\n<script type=\"text/javascript\">\n  (function(spec, embedOpt){\n    let outputDiv = document.currentScript.previousElementSibling;\n    if (outputDiv.id !== \"altair-viz-b0dd21afafb9447b9a34963f010a8917\") {\n      outputDiv = document.getElementById(\"altair-viz-b0dd21afafb9447b9a34963f010a8917\");\n    }\n    const paths = {\n      \"vega\": \"https://cdn.jsdelivr.net/npm//vega@5?noext\",\n      \"vega-lib\": \"https://cdn.jsdelivr.net/npm//vega-lib?noext\",\n      \"vega-lite\": \"https://cdn.jsdelivr.net/npm//vega-lite@4.8.1?noext\",\n      \"vega-embed\": \"https://cdn.jsdelivr.net/npm//vega-embed@6?noext\",\n    };\n\n    function loadScript(lib) {\n      return new Promise(function(resolve, reject) {\n        var s = document.createElement('script');\n        s.src = paths[lib];\n        s.async = true;\n        s.onload = () => resolve(paths[lib]);\n        s.onerror = () => reject(`Error loading script: ${paths[lib]}`);\n        document.getElementsByTagName(\"head\")[0].appendChild(s);\n      });\n    }\n\n    function showError(err) {\n      outputDiv.innerHTML = `<div class=\"error\" style=\"color:red;\">${err}</div>`;\n      throw err;\n    }\n\n    function displayChart(vegaEmbed) {\n      vegaEmbed(outputDiv, spec, embedOpt)\n        .catch(err => showError(`Javascript Error: ${err.message}<br>This usually means there's a typo in your chart specification. See the javascript console for the full traceback.`));\n    }\n\n    if(typeof define === \"function\" && define.amd) {\n      requirejs.config({paths});\n      require([\"vega-embed\"], displayChart, err => showError(`Error loading script: ${err.message}`));\n    } else if (typeof vegaEmbed === \"function\") {\n      displayChart(vegaEmbed);\n    } else {\n      loadScript(\"vega\")\n        .then(() => loadScript(\"vega-lite\"))\n        .then(() => loadScript(\"vega-embed\"))\n        .catch(showError)\n        .then(() => displayChart(vegaEmbed));\n    }\n  })({\"config\": {\"view\": {\"continuousWidth\": 400, \"continuousHeight\": 300}}, \"data\": {\"name\": \"data-32e6086e956f7bd038a2cd26349dfd84\"}, \"mark\": \"point\", \"encoding\": {\"x\": {\"type\": \"nominal\", \"field\": \"name\"}, \"y\": {\"type\": \"quantitative\", \"field\": \"diameter\"}}, \"$schema\": \"https://vega.github.io/schema/vega-lite/v4.8.1.json\", \"datasets\": {\"data-32e6086e956f7bd038a2cd26349dfd84\": [{\"name\": \"Mercury\", \"diameter\": 4879, \"distance\": 57.91, \"moons\": 0}, {\"name\": \"Venus\", \"diameter\": 12104, \"distance\": 108.2, \"moons\": 0}, {\"name\": \"Earth\", \"diameter\": 12742, \"distance\": 149.6, \"moons\": 1}, {\"name\": \"Mars\", \"diameter\": 6779, \"distance\": 227.9, \"moons\": 2}, {\"name\": \"Ceres\", \"diameter\": 950, \"distance\": 414.3, \"moons\": 0}, {\"name\": \"Jupiter\", \"diameter\": 139822, \"distance\": 778.5, \"moons\": 79}, {\"name\": \"Saturn\", \"diameter\": 116464, \"distance\": 1434.0, \"moons\": 82}, {\"name\": \"Uranus\", \"diameter\": 50724, \"distance\": 2871.0, \"moons\": 27}, {\"name\": \"Neptune\", \"diameter\": 4495, \"distance\": 49244.0, \"moons\": 14}, {\"name\": \"Pluto\", \"diameter\": 2374, \"distance\": 5906.4, \"moons\": 5}, {\"name\": \"Haumea\", \"diameter\": 1960, \"distance\": 6459.9, \"moons\": 2}, {\"name\": \"Makemake\", \"diameter\": 1434, \"distance\": 6796.2, \"moons\": 1}, {\"name\": \"Eris\", \"diameter\": 2326, \"distance\": 10152.0, \"moons\": 1}]}}, {\"mode\": \"vega-lite\"});\n</script>",
      "text/plain": [
       "alt.Chart(...)"
      ]
     },
     "metadata": {},
     "execution_count": 6
    }
   ],
   "source": [
    "chart"
   ]
  },
  {
   "cell_type": "code",
   "execution_count": 7,
   "metadata": {},
   "outputs": [
    {
     "output_type": "execute_result",
     "data": {
      "text/html": "\n<div id=\"altair-viz-c88cd64187984d5bb49aaa5500f320de\"></div>\n<script type=\"text/javascript\">\n  (function(spec, embedOpt){\n    let outputDiv = document.currentScript.previousElementSibling;\n    if (outputDiv.id !== \"altair-viz-c88cd64187984d5bb49aaa5500f320de\") {\n      outputDiv = document.getElementById(\"altair-viz-c88cd64187984d5bb49aaa5500f320de\");\n    }\n    const paths = {\n      \"vega\": \"https://cdn.jsdelivr.net/npm//vega@5?noext\",\n      \"vega-lib\": \"https://cdn.jsdelivr.net/npm//vega-lib?noext\",\n      \"vega-lite\": \"https://cdn.jsdelivr.net/npm//vega-lite@4.8.1?noext\",\n      \"vega-embed\": \"https://cdn.jsdelivr.net/npm//vega-embed@6?noext\",\n    };\n\n    function loadScript(lib) {\n      return new Promise(function(resolve, reject) {\n        var s = document.createElement('script');\n        s.src = paths[lib];\n        s.async = true;\n        s.onload = () => resolve(paths[lib]);\n        s.onerror = () => reject(`Error loading script: ${paths[lib]}`);\n        document.getElementsByTagName(\"head\")[0].appendChild(s);\n      });\n    }\n\n    function showError(err) {\n      outputDiv.innerHTML = `<div class=\"error\" style=\"color:red;\">${err}</div>`;\n      throw err;\n    }\n\n    function displayChart(vegaEmbed) {\n      vegaEmbed(outputDiv, spec, embedOpt)\n        .catch(err => showError(`Javascript Error: ${err.message}<br>This usually means there's a typo in your chart specification. See the javascript console for the full traceback.`));\n    }\n\n    if(typeof define === \"function\" && define.amd) {\n      requirejs.config({paths});\n      require([\"vega-embed\"], displayChart, err => showError(`Error loading script: ${err.message}`));\n    } else if (typeof vegaEmbed === \"function\") {\n      displayChart(vegaEmbed);\n    } else {\n      loadScript(\"vega\")\n        .then(() => loadScript(\"vega-lite\"))\n        .then(() => loadScript(\"vega-embed\"))\n        .catch(showError)\n        .then(() => displayChart(vegaEmbed));\n    }\n  })({\"config\": {\"view\": {\"continuousWidth\": 400, \"continuousHeight\": 300}}, \"data\": {\"name\": \"data-32e6086e956f7bd038a2cd26349dfd84\"}, \"mark\": \"bar\", \"encoding\": {\"x\": {\"type\": \"quantitative\", \"field\": \"moons\"}, \"y\": {\"type\": \"nominal\", \"field\": \"name\"}}, \"$schema\": \"https://vega.github.io/schema/vega-lite/v4.8.1.json\", \"datasets\": {\"data-32e6086e956f7bd038a2cd26349dfd84\": [{\"name\": \"Mercury\", \"diameter\": 4879, \"distance\": 57.91, \"moons\": 0}, {\"name\": \"Venus\", \"diameter\": 12104, \"distance\": 108.2, \"moons\": 0}, {\"name\": \"Earth\", \"diameter\": 12742, \"distance\": 149.6, \"moons\": 1}, {\"name\": \"Mars\", \"diameter\": 6779, \"distance\": 227.9, \"moons\": 2}, {\"name\": \"Ceres\", \"diameter\": 950, \"distance\": 414.3, \"moons\": 0}, {\"name\": \"Jupiter\", \"diameter\": 139822, \"distance\": 778.5, \"moons\": 79}, {\"name\": \"Saturn\", \"diameter\": 116464, \"distance\": 1434.0, \"moons\": 82}, {\"name\": \"Uranus\", \"diameter\": 50724, \"distance\": 2871.0, \"moons\": 27}, {\"name\": \"Neptune\", \"diameter\": 4495, \"distance\": 49244.0, \"moons\": 14}, {\"name\": \"Pluto\", \"diameter\": 2374, \"distance\": 5906.4, \"moons\": 5}, {\"name\": \"Haumea\", \"diameter\": 1960, \"distance\": 6459.9, \"moons\": 2}, {\"name\": \"Makemake\", \"diameter\": 1434, \"distance\": 6796.2, \"moons\": 1}, {\"name\": \"Eris\", \"diameter\": 2326, \"distance\": 10152.0, \"moons\": 1}]}}, {\"mode\": \"vega-lite\"});\n</script>",
      "text/plain": [
       "alt.Chart(...)"
      ]
     },
     "metadata": {},
     "execution_count": 7
    }
   ],
   "source": [
    "alt.Chart(planets).mark_bar().encode(\n",
    "    x='moons',\n",
    "    y='name'\n",
    ")"
   ]
  },
  {
   "source": [
    "Skála"
   ],
   "cell_type": "markdown",
   "metadata": {}
  },
  {
   "cell_type": "code",
   "execution_count": 8,
   "metadata": {},
   "outputs": [
    {
     "output_type": "execute_result",
     "data": {
      "text/html": "\n<div id=\"altair-viz-9240d3fd45af4ce5a3a010c779a09222\"></div>\n<script type=\"text/javascript\">\n  (function(spec, embedOpt){\n    let outputDiv = document.currentScript.previousElementSibling;\n    if (outputDiv.id !== \"altair-viz-9240d3fd45af4ce5a3a010c779a09222\") {\n      outputDiv = document.getElementById(\"altair-viz-9240d3fd45af4ce5a3a010c779a09222\");\n    }\n    const paths = {\n      \"vega\": \"https://cdn.jsdelivr.net/npm//vega@5?noext\",\n      \"vega-lib\": \"https://cdn.jsdelivr.net/npm//vega-lib?noext\",\n      \"vega-lite\": \"https://cdn.jsdelivr.net/npm//vega-lite@4.8.1?noext\",\n      \"vega-embed\": \"https://cdn.jsdelivr.net/npm//vega-embed@6?noext\",\n    };\n\n    function loadScript(lib) {\n      return new Promise(function(resolve, reject) {\n        var s = document.createElement('script');\n        s.src = paths[lib];\n        s.async = true;\n        s.onload = () => resolve(paths[lib]);\n        s.onerror = () => reject(`Error loading script: ${paths[lib]}`);\n        document.getElementsByTagName(\"head\")[0].appendChild(s);\n      });\n    }\n\n    function showError(err) {\n      outputDiv.innerHTML = `<div class=\"error\" style=\"color:red;\">${err}</div>`;\n      throw err;\n    }\n\n    function displayChart(vegaEmbed) {\n      vegaEmbed(outputDiv, spec, embedOpt)\n        .catch(err => showError(`Javascript Error: ${err.message}<br>This usually means there's a typo in your chart specification. See the javascript console for the full traceback.`));\n    }\n\n    if(typeof define === \"function\" && define.amd) {\n      requirejs.config({paths});\n      require([\"vega-embed\"], displayChart, err => showError(`Error loading script: ${err.message}`));\n    } else if (typeof vegaEmbed === \"function\") {\n      displayChart(vegaEmbed);\n    } else {\n      loadScript(\"vega\")\n        .then(() => loadScript(\"vega-lite\"))\n        .then(() => loadScript(\"vega-embed\"))\n        .catch(showError)\n        .then(() => displayChart(vegaEmbed));\n    }\n  })({\"config\": {\"view\": {\"continuousWidth\": 400, \"continuousHeight\": 300}}, \"data\": {\"name\": \"data-32e6086e956f7bd038a2cd26349dfd84\"}, \"mark\": \"point\", \"encoding\": {\"x\": {\"type\": \"nominal\", \"field\": \"name\"}, \"y\": {\"type\": \"quantitative\", \"field\": \"diameter\", \"scale\": {\"type\": \"log\"}}}, \"$schema\": \"https://vega.github.io/schema/vega-lite/v4.8.1.json\", \"datasets\": {\"data-32e6086e956f7bd038a2cd26349dfd84\": [{\"name\": \"Mercury\", \"diameter\": 4879, \"distance\": 57.91, \"moons\": 0}, {\"name\": \"Venus\", \"diameter\": 12104, \"distance\": 108.2, \"moons\": 0}, {\"name\": \"Earth\", \"diameter\": 12742, \"distance\": 149.6, \"moons\": 1}, {\"name\": \"Mars\", \"diameter\": 6779, \"distance\": 227.9, \"moons\": 2}, {\"name\": \"Ceres\", \"diameter\": 950, \"distance\": 414.3, \"moons\": 0}, {\"name\": \"Jupiter\", \"diameter\": 139822, \"distance\": 778.5, \"moons\": 79}, {\"name\": \"Saturn\", \"diameter\": 116464, \"distance\": 1434.0, \"moons\": 82}, {\"name\": \"Uranus\", \"diameter\": 50724, \"distance\": 2871.0, \"moons\": 27}, {\"name\": \"Neptune\", \"diameter\": 4495, \"distance\": 49244.0, \"moons\": 14}, {\"name\": \"Pluto\", \"diameter\": 2374, \"distance\": 5906.4, \"moons\": 5}, {\"name\": \"Haumea\", \"diameter\": 1960, \"distance\": 6459.9, \"moons\": 2}, {\"name\": \"Makemake\", \"diameter\": 1434, \"distance\": 6796.2, \"moons\": 1}, {\"name\": \"Eris\", \"diameter\": 2326, \"distance\": 10152.0, \"moons\": 1}]}}, {\"mode\": \"vega-lite\"});\n</script>",
      "text/plain": [
       "alt.Chart(...)"
      ]
     },
     "metadata": {},
     "execution_count": 8
    }
   ],
   "source": [
    "alt.Chart(planets).mark_point().encode(\n",
    "    alt.Y(\n",
    "        'diameter', \n",
    "        scale=alt.Scale(type='log')\n",
    "    ),\n",
    "    x='name'\n",
    ")"
   ]
  },
  {
   "source": [
    "Testreszabás: címkék, színek, egyéb vizuális elemek"
   ],
   "cell_type": "markdown",
   "metadata": {}
  },
  {
   "cell_type": "code",
   "execution_count": 9,
   "metadata": {},
   "outputs": [
    {
     "output_type": "execute_result",
     "data": {
      "text/html": "\n<div id=\"altair-viz-186d7638c86841df965f605f65fe09c1\"></div>\n<script type=\"text/javascript\">\n  (function(spec, embedOpt){\n    let outputDiv = document.currentScript.previousElementSibling;\n    if (outputDiv.id !== \"altair-viz-186d7638c86841df965f605f65fe09c1\") {\n      outputDiv = document.getElementById(\"altair-viz-186d7638c86841df965f605f65fe09c1\");\n    }\n    const paths = {\n      \"vega\": \"https://cdn.jsdelivr.net/npm//vega@5?noext\",\n      \"vega-lib\": \"https://cdn.jsdelivr.net/npm//vega-lib?noext\",\n      \"vega-lite\": \"https://cdn.jsdelivr.net/npm//vega-lite@4.8.1?noext\",\n      \"vega-embed\": \"https://cdn.jsdelivr.net/npm//vega-embed@6?noext\",\n    };\n\n    function loadScript(lib) {\n      return new Promise(function(resolve, reject) {\n        var s = document.createElement('script');\n        s.src = paths[lib];\n        s.async = true;\n        s.onload = () => resolve(paths[lib]);\n        s.onerror = () => reject(`Error loading script: ${paths[lib]}`);\n        document.getElementsByTagName(\"head\")[0].appendChild(s);\n      });\n    }\n\n    function showError(err) {\n      outputDiv.innerHTML = `<div class=\"error\" style=\"color:red;\">${err}</div>`;\n      throw err;\n    }\n\n    function displayChart(vegaEmbed) {\n      vegaEmbed(outputDiv, spec, embedOpt)\n        .catch(err => showError(`Javascript Error: ${err.message}<br>This usually means there's a typo in your chart specification. See the javascript console for the full traceback.`));\n    }\n\n    if(typeof define === \"function\" && define.amd) {\n      requirejs.config({paths});\n      require([\"vega-embed\"], displayChart, err => showError(`Error loading script: ${err.message}`));\n    } else if (typeof vegaEmbed === \"function\") {\n      displayChart(vegaEmbed);\n    } else {\n      loadScript(\"vega\")\n        .then(() => loadScript(\"vega-lite\"))\n        .then(() => loadScript(\"vega-embed\"))\n        .catch(showError)\n        .then(() => displayChart(vegaEmbed));\n    }\n  })({\"config\": {\"view\": {\"continuousWidth\": 400, \"continuousHeight\": 300}}, \"data\": {\"name\": \"data-32e6086e956f7bd038a2cd26349dfd84\"}, \"mark\": {\"type\": \"point\", \"fill\": \"#f00\", \"size\": 60, \"stroke\": \"#000\", \"strokeWidth\": 1}, \"encoding\": {\"x\": {\"type\": \"nominal\", \"axis\": {\"title\": \"Name\"}, \"field\": \"name\"}, \"y\": {\"type\": \"quantitative\", \"axis\": {\"title\": \"Diameter (km)\"}, \"field\": \"diameter\", \"scale\": {\"type\": \"log\"}}}, \"height\": 300, \"width\": 500, \"$schema\": \"https://vega.github.io/schema/vega-lite/v4.8.1.json\", \"datasets\": {\"data-32e6086e956f7bd038a2cd26349dfd84\": [{\"name\": \"Mercury\", \"diameter\": 4879, \"distance\": 57.91, \"moons\": 0}, {\"name\": \"Venus\", \"diameter\": 12104, \"distance\": 108.2, \"moons\": 0}, {\"name\": \"Earth\", \"diameter\": 12742, \"distance\": 149.6, \"moons\": 1}, {\"name\": \"Mars\", \"diameter\": 6779, \"distance\": 227.9, \"moons\": 2}, {\"name\": \"Ceres\", \"diameter\": 950, \"distance\": 414.3, \"moons\": 0}, {\"name\": \"Jupiter\", \"diameter\": 139822, \"distance\": 778.5, \"moons\": 79}, {\"name\": \"Saturn\", \"diameter\": 116464, \"distance\": 1434.0, \"moons\": 82}, {\"name\": \"Uranus\", \"diameter\": 50724, \"distance\": 2871.0, \"moons\": 27}, {\"name\": \"Neptune\", \"diameter\": 4495, \"distance\": 49244.0, \"moons\": 14}, {\"name\": \"Pluto\", \"diameter\": 2374, \"distance\": 5906.4, \"moons\": 5}, {\"name\": \"Haumea\", \"diameter\": 1960, \"distance\": 6459.9, \"moons\": 2}, {\"name\": \"Makemake\", \"diameter\": 1434, \"distance\": 6796.2, \"moons\": 1}, {\"name\": \"Eris\", \"diameter\": 2326, \"distance\": 10152.0, \"moons\": 1}]}}, {\"mode\": \"vega-lite\"});\n</script>",
      "text/plain": [
       "alt.Chart(...)"
      ]
     },
     "metadata": {},
     "execution_count": 9
    }
   ],
   "source": [
    "alt.Chart(planets).mark_point(\n",
    "    stroke='#000', \n",
    "    strokeWidth=1, \n",
    "    fill='#f00', \n",
    "    size=60\n",
    ").encode(\n",
    "    alt.X(\n",
    "        'name', \n",
    "        axis=alt.Axis(title='Name')\n",
    "    ),\n",
    "    alt.Y(\n",
    "        'diameter', \n",
    "        scale=alt.Scale(type='log'), \n",
    "        axis=alt.Axis(title='Diameter (km)')\n",
    "    )\n",
    ").properties(\n",
    "    width=500,\n",
    "    height=300\n",
    ")"
   ]
  },
  {
   "cell_type": "code",
   "execution_count": null,
   "metadata": {},
   "outputs": [],
   "source": []
  }
 ],
 "metadata": {
  "kernelspec": {
   "display_name": "Python 3",
   "language": "python",
   "name": "python3"
  },
  "language_info": {
   "codemirror_mode": {
    "name": "ipython",
    "version": 3
   },
   "file_extension": ".py",
   "mimetype": "text/x-python",
   "name": "python",
   "nbconvert_exporter": "python",
   "pygments_lexer": "ipython3",
   "version": "3.9.0-final"
  }
 },
 "nbformat": 4,
 "nbformat_minor": 4
}