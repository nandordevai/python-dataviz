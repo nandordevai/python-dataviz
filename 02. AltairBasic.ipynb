{
 "cells": [
  {
   "source": [
    "# Altair alapok"
   ],
   "cell_type": "markdown",
   "metadata": {}
  },
  {
   "cell_type": "code",
   "execution_count": 1,
   "metadata": {},
   "outputs": [],
   "source": [
    "import pandas as pd\n",
    "import numpy as np\n",
    "import altair as alt"
   ]
  },
  {
   "cell_type": "code",
   "execution_count": 2,
   "metadata": {},
   "outputs": [],
   "source": [
    "planets = pd.read_csv(\n",
    "    'planets-moons.csv', \n",
    "    dtype={\n",
    "        'name': np.str, \n",
    "        'distance': np.float, \n",
    "        'diameter': np.int, \n",
    "        'moons': np.int\n",
    "    }\n",
    ")"
   ]
  },
  {
   "source": [
    "## Marks & encodings"
   ],
   "cell_type": "markdown",
   "metadata": {}
  },
  {
   "cell_type": "code",
   "execution_count": 3,
   "metadata": {},
   "outputs": [],
   "source": [
    "chart = alt.Chart(planets).mark_point().encode(\n",
    "    x='name:N',\n",
    "    y='diameter:Q'\n",
    ")"
   ]
  },
  {
   "cell_type": "code",
   "execution_count": 4,
   "metadata": {},
   "outputs": [
    {
     "output_type": "execute_result",
     "data": {
      "text/plain": [
       "{'config': {'view': {'continuousWidth': 400, 'continuousHeight': 300}},\n",
       " 'data': {'name': 'data-5b03ff44f3bf68bec8f5d2248afba5a6'},\n",
       " 'mark': 'point',\n",
       " 'encoding': {'x': {'type': 'nominal', 'field': 'name'},\n",
       "  'y': {'type': 'quantitative', 'field': 'diameter'}},\n",
       " '$schema': 'https://vega.github.io/schema/vega-lite/v4.8.1.json',\n",
       " 'datasets': {'data-5b03ff44f3bf68bec8f5d2248afba5a6': [{'name': 'Mercury',\n",
       "    'diameter': 4879,\n",
       "    'distance': 57.91,\n",
       "    'moons': 0,\n",
       "    'type': 'planet'},\n",
       "   {'name': 'Venus',\n",
       "    'diameter': 12104,\n",
       "    'distance': 108.2,\n",
       "    'moons': 0,\n",
       "    'type': 'planet'},\n",
       "   {'name': 'Earth',\n",
       "    'diameter': 12742,\n",
       "    'distance': 149.6,\n",
       "    'moons': 1,\n",
       "    'type': 'planet'},\n",
       "   {'name': 'Mars',\n",
       "    'diameter': 6779,\n",
       "    'distance': 227.9,\n",
       "    'moons': 2,\n",
       "    'type': 'planet'},\n",
       "   {'name': 'Ceres',\n",
       "    'diameter': 950,\n",
       "    'distance': 414.3,\n",
       "    'moons': 0,\n",
       "    'type': 'dwarf planet'},\n",
       "   {'name': 'Jupiter',\n",
       "    'diameter': 139822,\n",
       "    'distance': 778.5,\n",
       "    'moons': 79,\n",
       "    'type': 'planet'},\n",
       "   {'name': 'Saturn',\n",
       "    'diameter': 116464,\n",
       "    'distance': 1434.0,\n",
       "    'moons': 82,\n",
       "    'type': 'planet'},\n",
       "   {'name': 'Uranus',\n",
       "    'diameter': 50724,\n",
       "    'distance': 2871.0,\n",
       "    'moons': 27,\n",
       "    'type': 'planet'},\n",
       "   {'name': 'Neptune',\n",
       "    'diameter': 4495,\n",
       "    'distance': 49244.0,\n",
       "    'moons': 14,\n",
       "    'type': 'planet'},\n",
       "   {'name': 'Pluto',\n",
       "    'diameter': 2374,\n",
       "    'distance': 5906.4,\n",
       "    'moons': 5,\n",
       "    'type': 'dwarf planet'},\n",
       "   {'name': 'Haumea',\n",
       "    'diameter': 1960,\n",
       "    'distance': 6459.9,\n",
       "    'moons': 2,\n",
       "    'type': 'dwarf planet'},\n",
       "   {'name': 'Makemake',\n",
       "    'diameter': 1434,\n",
       "    'distance': 6796.2,\n",
       "    'moons': 1,\n",
       "    'type': 'dwarf planet'},\n",
       "   {'name': 'Eris',\n",
       "    'diameter': 2326,\n",
       "    'distance': 10152.0,\n",
       "    'moons': 1,\n",
       "    'type': 'dwarf planet'}]}}"
      ]
     },
     "metadata": {},
     "execution_count": 4
    }
   ],
   "source": [
    "chart.to_dict()"
   ]
  },
  {
   "cell_type": "code",
   "execution_count": 5,
   "metadata": {},
   "outputs": [
    {
     "output_type": "execute_result",
     "data": {
      "text/html": "\n<div id=\"altair-viz-2a2f2549ff044baeafec266a9c7ad0b9\"></div>\n<script type=\"text/javascript\">\n  (function(spec, embedOpt){\n    let outputDiv = document.currentScript.previousElementSibling;\n    if (outputDiv.id !== \"altair-viz-2a2f2549ff044baeafec266a9c7ad0b9\") {\n      outputDiv = document.getElementById(\"altair-viz-2a2f2549ff044baeafec266a9c7ad0b9\");\n    }\n    const paths = {\n      \"vega\": \"https://cdn.jsdelivr.net/npm//vega@5?noext\",\n      \"vega-lib\": \"https://cdn.jsdelivr.net/npm//vega-lib?noext\",\n      \"vega-lite\": \"https://cdn.jsdelivr.net/npm//vega-lite@4.8.1?noext\",\n      \"vega-embed\": \"https://cdn.jsdelivr.net/npm//vega-embed@6?noext\",\n    };\n\n    function loadScript(lib) {\n      return new Promise(function(resolve, reject) {\n        var s = document.createElement('script');\n        s.src = paths[lib];\n        s.async = true;\n        s.onload = () => resolve(paths[lib]);\n        s.onerror = () => reject(`Error loading script: ${paths[lib]}`);\n        document.getElementsByTagName(\"head\")[0].appendChild(s);\n      });\n    }\n\n    function showError(err) {\n      outputDiv.innerHTML = `<div class=\"error\" style=\"color:red;\">${err}</div>`;\n      throw err;\n    }\n\n    function displayChart(vegaEmbed) {\n      vegaEmbed(outputDiv, spec, embedOpt)\n        .catch(err => showError(`Javascript Error: ${err.message}<br>This usually means there's a typo in your chart specification. See the javascript console for the full traceback.`));\n    }\n\n    if(typeof define === \"function\" && define.amd) {\n      requirejs.config({paths});\n      require([\"vega-embed\"], displayChart, err => showError(`Error loading script: ${err.message}`));\n    } else if (typeof vegaEmbed === \"function\") {\n      displayChart(vegaEmbed);\n    } else {\n      loadScript(\"vega\")\n        .then(() => loadScript(\"vega-lite\"))\n        .then(() => loadScript(\"vega-embed\"))\n        .catch(showError)\n        .then(() => displayChart(vegaEmbed));\n    }\n  })({\"config\": {\"view\": {\"continuousWidth\": 400, \"continuousHeight\": 300}}, \"data\": {\"name\": \"data-5b03ff44f3bf68bec8f5d2248afba5a6\"}, \"mark\": \"point\", \"encoding\": {\"x\": {\"type\": \"nominal\", \"field\": \"name\"}, \"y\": {\"type\": \"quantitative\", \"field\": \"diameter\"}}, \"$schema\": \"https://vega.github.io/schema/vega-lite/v4.8.1.json\", \"datasets\": {\"data-5b03ff44f3bf68bec8f5d2248afba5a6\": [{\"name\": \"Mercury\", \"diameter\": 4879, \"distance\": 57.91, \"moons\": 0, \"type\": \"planet\"}, {\"name\": \"Venus\", \"diameter\": 12104, \"distance\": 108.2, \"moons\": 0, \"type\": \"planet\"}, {\"name\": \"Earth\", \"diameter\": 12742, \"distance\": 149.6, \"moons\": 1, \"type\": \"planet\"}, {\"name\": \"Mars\", \"diameter\": 6779, \"distance\": 227.9, \"moons\": 2, \"type\": \"planet\"}, {\"name\": \"Ceres\", \"diameter\": 950, \"distance\": 414.3, \"moons\": 0, \"type\": \"dwarf planet\"}, {\"name\": \"Jupiter\", \"diameter\": 139822, \"distance\": 778.5, \"moons\": 79, \"type\": \"planet\"}, {\"name\": \"Saturn\", \"diameter\": 116464, \"distance\": 1434.0, \"moons\": 82, \"type\": \"planet\"}, {\"name\": \"Uranus\", \"diameter\": 50724, \"distance\": 2871.0, \"moons\": 27, \"type\": \"planet\"}, {\"name\": \"Neptune\", \"diameter\": 4495, \"distance\": 49244.0, \"moons\": 14, \"type\": \"planet\"}, {\"name\": \"Pluto\", \"diameter\": 2374, \"distance\": 5906.4, \"moons\": 5, \"type\": \"dwarf planet\"}, {\"name\": \"Haumea\", \"diameter\": 1960, \"distance\": 6459.9, \"moons\": 2, \"type\": \"dwarf planet\"}, {\"name\": \"Makemake\", \"diameter\": 1434, \"distance\": 6796.2, \"moons\": 1, \"type\": \"dwarf planet\"}, {\"name\": \"Eris\", \"diameter\": 2326, \"distance\": 10152.0, \"moons\": 1, \"type\": \"dwarf planet\"}]}}, {\"mode\": \"vega-lite\"});\n</script>",
      "text/plain": [
       "alt.Chart(...)"
      ]
     },
     "metadata": {},
     "execution_count": 5
    }
   ],
   "source": [
    "chart"
   ]
  },
  {
   "cell_type": "code",
   "execution_count": 6,
   "metadata": {},
   "outputs": [
    {
     "output_type": "execute_result",
     "data": {
      "text/html": "\n<div id=\"altair-viz-cdff174e6c7f4b529e4134c58e52d711\"></div>\n<script type=\"text/javascript\">\n  (function(spec, embedOpt){\n    let outputDiv = document.currentScript.previousElementSibling;\n    if (outputDiv.id !== \"altair-viz-cdff174e6c7f4b529e4134c58e52d711\") {\n      outputDiv = document.getElementById(\"altair-viz-cdff174e6c7f4b529e4134c58e52d711\");\n    }\n    const paths = {\n      \"vega\": \"https://cdn.jsdelivr.net/npm//vega@5?noext\",\n      \"vega-lib\": \"https://cdn.jsdelivr.net/npm//vega-lib?noext\",\n      \"vega-lite\": \"https://cdn.jsdelivr.net/npm//vega-lite@4.8.1?noext\",\n      \"vega-embed\": \"https://cdn.jsdelivr.net/npm//vega-embed@6?noext\",\n    };\n\n    function loadScript(lib) {\n      return new Promise(function(resolve, reject) {\n        var s = document.createElement('script');\n        s.src = paths[lib];\n        s.async = true;\n        s.onload = () => resolve(paths[lib]);\n        s.onerror = () => reject(`Error loading script: ${paths[lib]}`);\n        document.getElementsByTagName(\"head\")[0].appendChild(s);\n      });\n    }\n\n    function showError(err) {\n      outputDiv.innerHTML = `<div class=\"error\" style=\"color:red;\">${err}</div>`;\n      throw err;\n    }\n\n    function displayChart(vegaEmbed) {\n      vegaEmbed(outputDiv, spec, embedOpt)\n        .catch(err => showError(`Javascript Error: ${err.message}<br>This usually means there's a typo in your chart specification. See the javascript console for the full traceback.`));\n    }\n\n    if(typeof define === \"function\" && define.amd) {\n      requirejs.config({paths});\n      require([\"vega-embed\"], displayChart, err => showError(`Error loading script: ${err.message}`));\n    } else if (typeof vegaEmbed === \"function\") {\n      displayChart(vegaEmbed);\n    } else {\n      loadScript(\"vega\")\n        .then(() => loadScript(\"vega-lite\"))\n        .then(() => loadScript(\"vega-embed\"))\n        .catch(showError)\n        .then(() => displayChart(vegaEmbed));\n    }\n  })({\"config\": {\"view\": {\"continuousWidth\": 400, \"continuousHeight\": 300}}, \"data\": {\"name\": \"data-5b03ff44f3bf68bec8f5d2248afba5a6\"}, \"mark\": \"bar\", \"encoding\": {\"x\": {\"type\": \"quantitative\", \"field\": \"moons\"}, \"y\": {\"type\": \"nominal\", \"field\": \"name\"}}, \"$schema\": \"https://vega.github.io/schema/vega-lite/v4.8.1.json\", \"datasets\": {\"data-5b03ff44f3bf68bec8f5d2248afba5a6\": [{\"name\": \"Mercury\", \"diameter\": 4879, \"distance\": 57.91, \"moons\": 0, \"type\": \"planet\"}, {\"name\": \"Venus\", \"diameter\": 12104, \"distance\": 108.2, \"moons\": 0, \"type\": \"planet\"}, {\"name\": \"Earth\", \"diameter\": 12742, \"distance\": 149.6, \"moons\": 1, \"type\": \"planet\"}, {\"name\": \"Mars\", \"diameter\": 6779, \"distance\": 227.9, \"moons\": 2, \"type\": \"planet\"}, {\"name\": \"Ceres\", \"diameter\": 950, \"distance\": 414.3, \"moons\": 0, \"type\": \"dwarf planet\"}, {\"name\": \"Jupiter\", \"diameter\": 139822, \"distance\": 778.5, \"moons\": 79, \"type\": \"planet\"}, {\"name\": \"Saturn\", \"diameter\": 116464, \"distance\": 1434.0, \"moons\": 82, \"type\": \"planet\"}, {\"name\": \"Uranus\", \"diameter\": 50724, \"distance\": 2871.0, \"moons\": 27, \"type\": \"planet\"}, {\"name\": \"Neptune\", \"diameter\": 4495, \"distance\": 49244.0, \"moons\": 14, \"type\": \"planet\"}, {\"name\": \"Pluto\", \"diameter\": 2374, \"distance\": 5906.4, \"moons\": 5, \"type\": \"dwarf planet\"}, {\"name\": \"Haumea\", \"diameter\": 1960, \"distance\": 6459.9, \"moons\": 2, \"type\": \"dwarf planet\"}, {\"name\": \"Makemake\", \"diameter\": 1434, \"distance\": 6796.2, \"moons\": 1, \"type\": \"dwarf planet\"}, {\"name\": \"Eris\", \"diameter\": 2326, \"distance\": 10152.0, \"moons\": 1, \"type\": \"dwarf planet\"}]}}, {\"mode\": \"vega-lite\"});\n</script>",
      "text/plain": [
       "alt.Chart(...)"
      ]
     },
     "metadata": {},
     "execution_count": 6
    }
   ],
   "source": [
    "alt.Chart(planets).mark_bar().encode(\n",
    "    x='moons',\n",
    "    y='name'\n",
    ")"
   ]
  },
  {
   "source": [
    "## Skálák"
   ],
   "cell_type": "markdown",
   "metadata": {}
  },
  {
   "cell_type": "code",
   "execution_count": 7,
   "metadata": {},
   "outputs": [
    {
     "output_type": "execute_result",
     "data": {
      "text/html": "\n<div id=\"altair-viz-74926a7f55d84acea6edd26b08430175\"></div>\n<script type=\"text/javascript\">\n  (function(spec, embedOpt){\n    let outputDiv = document.currentScript.previousElementSibling;\n    if (outputDiv.id !== \"altair-viz-74926a7f55d84acea6edd26b08430175\") {\n      outputDiv = document.getElementById(\"altair-viz-74926a7f55d84acea6edd26b08430175\");\n    }\n    const paths = {\n      \"vega\": \"https://cdn.jsdelivr.net/npm//vega@5?noext\",\n      \"vega-lib\": \"https://cdn.jsdelivr.net/npm//vega-lib?noext\",\n      \"vega-lite\": \"https://cdn.jsdelivr.net/npm//vega-lite@4.8.1?noext\",\n      \"vega-embed\": \"https://cdn.jsdelivr.net/npm//vega-embed@6?noext\",\n    };\n\n    function loadScript(lib) {\n      return new Promise(function(resolve, reject) {\n        var s = document.createElement('script');\n        s.src = paths[lib];\n        s.async = true;\n        s.onload = () => resolve(paths[lib]);\n        s.onerror = () => reject(`Error loading script: ${paths[lib]}`);\n        document.getElementsByTagName(\"head\")[0].appendChild(s);\n      });\n    }\n\n    function showError(err) {\n      outputDiv.innerHTML = `<div class=\"error\" style=\"color:red;\">${err}</div>`;\n      throw err;\n    }\n\n    function displayChart(vegaEmbed) {\n      vegaEmbed(outputDiv, spec, embedOpt)\n        .catch(err => showError(`Javascript Error: ${err.message}<br>This usually means there's a typo in your chart specification. See the javascript console for the full traceback.`));\n    }\n\n    if(typeof define === \"function\" && define.amd) {\n      requirejs.config({paths});\n      require([\"vega-embed\"], displayChart, err => showError(`Error loading script: ${err.message}`));\n    } else if (typeof vegaEmbed === \"function\") {\n      displayChart(vegaEmbed);\n    } else {\n      loadScript(\"vega\")\n        .then(() => loadScript(\"vega-lite\"))\n        .then(() => loadScript(\"vega-embed\"))\n        .catch(showError)\n        .then(() => displayChart(vegaEmbed));\n    }\n  })({\"config\": {\"view\": {\"continuousWidth\": 400, \"continuousHeight\": 300}}, \"data\": {\"name\": \"data-5b03ff44f3bf68bec8f5d2248afba5a6\"}, \"mark\": \"point\", \"encoding\": {\"x\": {\"type\": \"nominal\", \"field\": \"name\"}, \"y\": {\"type\": \"quantitative\", \"field\": \"diameter\", \"scale\": {\"type\": \"log\"}}}, \"$schema\": \"https://vega.github.io/schema/vega-lite/v4.8.1.json\", \"datasets\": {\"data-5b03ff44f3bf68bec8f5d2248afba5a6\": [{\"name\": \"Mercury\", \"diameter\": 4879, \"distance\": 57.91, \"moons\": 0, \"type\": \"planet\"}, {\"name\": \"Venus\", \"diameter\": 12104, \"distance\": 108.2, \"moons\": 0, \"type\": \"planet\"}, {\"name\": \"Earth\", \"diameter\": 12742, \"distance\": 149.6, \"moons\": 1, \"type\": \"planet\"}, {\"name\": \"Mars\", \"diameter\": 6779, \"distance\": 227.9, \"moons\": 2, \"type\": \"planet\"}, {\"name\": \"Ceres\", \"diameter\": 950, \"distance\": 414.3, \"moons\": 0, \"type\": \"dwarf planet\"}, {\"name\": \"Jupiter\", \"diameter\": 139822, \"distance\": 778.5, \"moons\": 79, \"type\": \"planet\"}, {\"name\": \"Saturn\", \"diameter\": 116464, \"distance\": 1434.0, \"moons\": 82, \"type\": \"planet\"}, {\"name\": \"Uranus\", \"diameter\": 50724, \"distance\": 2871.0, \"moons\": 27, \"type\": \"planet\"}, {\"name\": \"Neptune\", \"diameter\": 4495, \"distance\": 49244.0, \"moons\": 14, \"type\": \"planet\"}, {\"name\": \"Pluto\", \"diameter\": 2374, \"distance\": 5906.4, \"moons\": 5, \"type\": \"dwarf planet\"}, {\"name\": \"Haumea\", \"diameter\": 1960, \"distance\": 6459.9, \"moons\": 2, \"type\": \"dwarf planet\"}, {\"name\": \"Makemake\", \"diameter\": 1434, \"distance\": 6796.2, \"moons\": 1, \"type\": \"dwarf planet\"}, {\"name\": \"Eris\", \"diameter\": 2326, \"distance\": 10152.0, \"moons\": 1, \"type\": \"dwarf planet\"}]}}, {\"mode\": \"vega-lite\"});\n</script>",
      "text/plain": [
       "alt.Chart(...)"
      ]
     },
     "metadata": {},
     "execution_count": 7
    }
   ],
   "source": [
    "alt.Chart(planets).mark_point().encode(\n",
    "    alt.Y(\n",
    "        'diameter', \n",
    "        scale=alt.Scale(type='log')\n",
    "    ),\n",
    "    x='name'\n",
    ")"
   ]
  },
  {
   "source": [
    "## Encoding channels"
   ],
   "cell_type": "markdown",
   "metadata": {}
  },
  {
   "cell_type": "code",
   "execution_count": 8,
   "metadata": {},
   "outputs": [
    {
     "output_type": "execute_result",
     "data": {
      "text/html": "\n<div id=\"altair-viz-df11b62ab69e4d5d928a6a62ff890261\"></div>\n<script type=\"text/javascript\">\n  (function(spec, embedOpt){\n    let outputDiv = document.currentScript.previousElementSibling;\n    if (outputDiv.id !== \"altair-viz-df11b62ab69e4d5d928a6a62ff890261\") {\n      outputDiv = document.getElementById(\"altair-viz-df11b62ab69e4d5d928a6a62ff890261\");\n    }\n    const paths = {\n      \"vega\": \"https://cdn.jsdelivr.net/npm//vega@5?noext\",\n      \"vega-lib\": \"https://cdn.jsdelivr.net/npm//vega-lib?noext\",\n      \"vega-lite\": \"https://cdn.jsdelivr.net/npm//vega-lite@4.8.1?noext\",\n      \"vega-embed\": \"https://cdn.jsdelivr.net/npm//vega-embed@6?noext\",\n    };\n\n    function loadScript(lib) {\n      return new Promise(function(resolve, reject) {\n        var s = document.createElement('script');\n        s.src = paths[lib];\n        s.async = true;\n        s.onload = () => resolve(paths[lib]);\n        s.onerror = () => reject(`Error loading script: ${paths[lib]}`);\n        document.getElementsByTagName(\"head\")[0].appendChild(s);\n      });\n    }\n\n    function showError(err) {\n      outputDiv.innerHTML = `<div class=\"error\" style=\"color:red;\">${err}</div>`;\n      throw err;\n    }\n\n    function displayChart(vegaEmbed) {\n      vegaEmbed(outputDiv, spec, embedOpt)\n        .catch(err => showError(`Javascript Error: ${err.message}<br>This usually means there's a typo in your chart specification. See the javascript console for the full traceback.`));\n    }\n\n    if(typeof define === \"function\" && define.amd) {\n      requirejs.config({paths});\n      require([\"vega-embed\"], displayChart, err => showError(`Error loading script: ${err.message}`));\n    } else if (typeof vegaEmbed === \"function\") {\n      displayChart(vegaEmbed);\n    } else {\n      loadScript(\"vega\")\n        .then(() => loadScript(\"vega-lite\"))\n        .then(() => loadScript(\"vega-embed\"))\n        .catch(showError)\n        .then(() => displayChart(vegaEmbed));\n    }\n  })({\"config\": {\"view\": {\"continuousWidth\": 400, \"continuousHeight\": 300}}, \"data\": {\"name\": \"data-5b03ff44f3bf68bec8f5d2248afba5a6\"}, \"mark\": \"point\", \"encoding\": {\"color\": {\"type\": \"quantitative\", \"field\": \"moons\"}, \"shape\": {\"type\": \"nominal\", \"field\": \"type\"}, \"x\": {\"type\": \"nominal\", \"field\": \"name\"}, \"y\": {\"type\": \"quantitative\", \"field\": \"diameter\", \"scale\": {\"type\": \"log\"}}}, \"$schema\": \"https://vega.github.io/schema/vega-lite/v4.8.1.json\", \"datasets\": {\"data-5b03ff44f3bf68bec8f5d2248afba5a6\": [{\"name\": \"Mercury\", \"diameter\": 4879, \"distance\": 57.91, \"moons\": 0, \"type\": \"planet\"}, {\"name\": \"Venus\", \"diameter\": 12104, \"distance\": 108.2, \"moons\": 0, \"type\": \"planet\"}, {\"name\": \"Earth\", \"diameter\": 12742, \"distance\": 149.6, \"moons\": 1, \"type\": \"planet\"}, {\"name\": \"Mars\", \"diameter\": 6779, \"distance\": 227.9, \"moons\": 2, \"type\": \"planet\"}, {\"name\": \"Ceres\", \"diameter\": 950, \"distance\": 414.3, \"moons\": 0, \"type\": \"dwarf planet\"}, {\"name\": \"Jupiter\", \"diameter\": 139822, \"distance\": 778.5, \"moons\": 79, \"type\": \"planet\"}, {\"name\": \"Saturn\", \"diameter\": 116464, \"distance\": 1434.0, \"moons\": 82, \"type\": \"planet\"}, {\"name\": \"Uranus\", \"diameter\": 50724, \"distance\": 2871.0, \"moons\": 27, \"type\": \"planet\"}, {\"name\": \"Neptune\", \"diameter\": 4495, \"distance\": 49244.0, \"moons\": 14, \"type\": \"planet\"}, {\"name\": \"Pluto\", \"diameter\": 2374, \"distance\": 5906.4, \"moons\": 5, \"type\": \"dwarf planet\"}, {\"name\": \"Haumea\", \"diameter\": 1960, \"distance\": 6459.9, \"moons\": 2, \"type\": \"dwarf planet\"}, {\"name\": \"Makemake\", \"diameter\": 1434, \"distance\": 6796.2, \"moons\": 1, \"type\": \"dwarf planet\"}, {\"name\": \"Eris\", \"diameter\": 2326, \"distance\": 10152.0, \"moons\": 1, \"type\": \"dwarf planet\"}]}}, {\"mode\": \"vega-lite\"});\n</script>",
      "text/plain": [
       "alt.Chart(...)"
      ]
     },
     "metadata": {},
     "execution_count": 8
    }
   ],
   "source": [
    "alt.Chart(planets).mark_point().encode(\n",
    "    alt.X(\n",
    "        'name'\n",
    "    ),\n",
    "    alt.Y(\n",
    "        'diameter', \n",
    "        scale=alt.Scale(type='log')\n",
    "    ),\n",
    "    alt.Color(\n",
    "        'moons'\n",
    "    ),\n",
    "    alt.Shape(\n",
    "        'type'\n",
    "    )\n",
    ")"
   ]
  },
  {
   "source": [
    "## Testreszabás\n",
    "\n",
    "Címkék, színek, egyéb vizuális elemek"
   ],
   "cell_type": "markdown",
   "metadata": {}
  },
  {
   "cell_type": "code",
   "execution_count": 9,
   "metadata": {},
   "outputs": [
    {
     "output_type": "execute_result",
     "data": {
      "text/html": "\n<div id=\"altair-viz-3024aa4d24dc41a0a7c4aadb95c27534\"></div>\n<script type=\"text/javascript\">\n  (function(spec, embedOpt){\n    let outputDiv = document.currentScript.previousElementSibling;\n    if (outputDiv.id !== \"altair-viz-3024aa4d24dc41a0a7c4aadb95c27534\") {\n      outputDiv = document.getElementById(\"altair-viz-3024aa4d24dc41a0a7c4aadb95c27534\");\n    }\n    const paths = {\n      \"vega\": \"https://cdn.jsdelivr.net/npm//vega@5?noext\",\n      \"vega-lib\": \"https://cdn.jsdelivr.net/npm//vega-lib?noext\",\n      \"vega-lite\": \"https://cdn.jsdelivr.net/npm//vega-lite@4.8.1?noext\",\n      \"vega-embed\": \"https://cdn.jsdelivr.net/npm//vega-embed@6?noext\",\n    };\n\n    function loadScript(lib) {\n      return new Promise(function(resolve, reject) {\n        var s = document.createElement('script');\n        s.src = paths[lib];\n        s.async = true;\n        s.onload = () => resolve(paths[lib]);\n        s.onerror = () => reject(`Error loading script: ${paths[lib]}`);\n        document.getElementsByTagName(\"head\")[0].appendChild(s);\n      });\n    }\n\n    function showError(err) {\n      outputDiv.innerHTML = `<div class=\"error\" style=\"color:red;\">${err}</div>`;\n      throw err;\n    }\n\n    function displayChart(vegaEmbed) {\n      vegaEmbed(outputDiv, spec, embedOpt)\n        .catch(err => showError(`Javascript Error: ${err.message}<br>This usually means there's a typo in your chart specification. See the javascript console for the full traceback.`));\n    }\n\n    if(typeof define === \"function\" && define.amd) {\n      requirejs.config({paths});\n      require([\"vega-embed\"], displayChart, err => showError(`Error loading script: ${err.message}`));\n    } else if (typeof vegaEmbed === \"function\") {\n      displayChart(vegaEmbed);\n    } else {\n      loadScript(\"vega\")\n        .then(() => loadScript(\"vega-lite\"))\n        .then(() => loadScript(\"vega-embed\"))\n        .catch(showError)\n        .then(() => displayChart(vegaEmbed));\n    }\n  })({\"config\": {\"view\": {\"continuousWidth\": 400, \"continuousHeight\": 300, \"strokeWidth\": 0}, \"axis\": {\"grid\": false}}, \"data\": {\"name\": \"data-5b03ff44f3bf68bec8f5d2248afba5a6\"}, \"mark\": {\"type\": \"point\", \"size\": 60, \"strokeWidth\": 3}, \"encoding\": {\"color\": {\"type\": \"quantitative\", \"field\": \"moons\", \"legend\": {\"title\": \"# of moons\"}, \"scale\": {\"scheme\": \"reds\"}}, \"opacity\": {\"value\": 0.5}, \"shape\": {\"type\": \"nominal\", \"field\": \"type\"}, \"x\": {\"type\": \"nominal\", \"axis\": {\"labelAngle\": -45, \"title\": \"Name\"}, \"field\": \"name\"}, \"y\": {\"type\": \"quantitative\", \"axis\": {\"title\": \"Diameter (km)\"}, \"field\": \"diameter\", \"scale\": {\"type\": \"log\"}}}, \"height\": 300, \"width\": 500, \"$schema\": \"https://vega.github.io/schema/vega-lite/v4.8.1.json\", \"datasets\": {\"data-5b03ff44f3bf68bec8f5d2248afba5a6\": [{\"name\": \"Mercury\", \"diameter\": 4879, \"distance\": 57.91, \"moons\": 0, \"type\": \"planet\"}, {\"name\": \"Venus\", \"diameter\": 12104, \"distance\": 108.2, \"moons\": 0, \"type\": \"planet\"}, {\"name\": \"Earth\", \"diameter\": 12742, \"distance\": 149.6, \"moons\": 1, \"type\": \"planet\"}, {\"name\": \"Mars\", \"diameter\": 6779, \"distance\": 227.9, \"moons\": 2, \"type\": \"planet\"}, {\"name\": \"Ceres\", \"diameter\": 950, \"distance\": 414.3, \"moons\": 0, \"type\": \"dwarf planet\"}, {\"name\": \"Jupiter\", \"diameter\": 139822, \"distance\": 778.5, \"moons\": 79, \"type\": \"planet\"}, {\"name\": \"Saturn\", \"diameter\": 116464, \"distance\": 1434.0, \"moons\": 82, \"type\": \"planet\"}, {\"name\": \"Uranus\", \"diameter\": 50724, \"distance\": 2871.0, \"moons\": 27, \"type\": \"planet\"}, {\"name\": \"Neptune\", \"diameter\": 4495, \"distance\": 49244.0, \"moons\": 14, \"type\": \"planet\"}, {\"name\": \"Pluto\", \"diameter\": 2374, \"distance\": 5906.4, \"moons\": 5, \"type\": \"dwarf planet\"}, {\"name\": \"Haumea\", \"diameter\": 1960, \"distance\": 6459.9, \"moons\": 2, \"type\": \"dwarf planet\"}, {\"name\": \"Makemake\", \"diameter\": 1434, \"distance\": 6796.2, \"moons\": 1, \"type\": \"dwarf planet\"}, {\"name\": \"Eris\", \"diameter\": 2326, \"distance\": 10152.0, \"moons\": 1, \"type\": \"dwarf planet\"}]}}, {\"mode\": \"vega-lite\"});\n</script>",
      "text/plain": [
       "alt.Chart(...)"
      ]
     },
     "metadata": {},
     "execution_count": 9
    }
   ],
   "source": [
    "alt.Chart(planets).mark_point(\n",
    "    strokeWidth=3, \n",
    "    size=60\n",
    ").encode(\n",
    "    alt.X(\n",
    "        'name', \n",
    "        axis=alt.Axis(\n",
    "            title='Name',\n",
    "            labelAngle=-45\n",
    "        ),\n",
    "    ),\n",
    "    alt.Y(\n",
    "        'diameter', \n",
    "        scale=alt.Scale(type='log'), \n",
    "        axis=alt.Axis(title='Diameter (km)')\n",
    "    ),\n",
    "    alt.Color(\n",
    "        'moons',\n",
    "        scale=alt.Scale(scheme='reds'),\n",
    "        legend=alt.Legend(title='# of moons')\n",
    "    ),\n",
    "    shape='type',\n",
    "    opacity=alt.value(0.5)\n",
    ").configure_axis(\n",
    "    grid=False\n",
    ").configure_view(\n",
    "    strokeWidth=0\n",
    ").properties(\n",
    "    width=500,\n",
    "    height=300\n",
    ")"
   ]
  },
  {
   "source": [
    "## Adattranszformációk"
   ],
   "cell_type": "markdown",
   "metadata": {}
  },
  {
   "cell_type": "code",
   "execution_count": 10,
   "metadata": {},
   "outputs": [
    {
     "output_type": "execute_result",
     "data": {
      "text/html": "\n<div id=\"altair-viz-fcbfeb7175c046338c9f8874fc2f56ef\"></div>\n<script type=\"text/javascript\">\n  (function(spec, embedOpt){\n    let outputDiv = document.currentScript.previousElementSibling;\n    if (outputDiv.id !== \"altair-viz-fcbfeb7175c046338c9f8874fc2f56ef\") {\n      outputDiv = document.getElementById(\"altair-viz-fcbfeb7175c046338c9f8874fc2f56ef\");\n    }\n    const paths = {\n      \"vega\": \"https://cdn.jsdelivr.net/npm//vega@5?noext\",\n      \"vega-lib\": \"https://cdn.jsdelivr.net/npm//vega-lib?noext\",\n      \"vega-lite\": \"https://cdn.jsdelivr.net/npm//vega-lite@4.8.1?noext\",\n      \"vega-embed\": \"https://cdn.jsdelivr.net/npm//vega-embed@6?noext\",\n    };\n\n    function loadScript(lib) {\n      return new Promise(function(resolve, reject) {\n        var s = document.createElement('script');\n        s.src = paths[lib];\n        s.async = true;\n        s.onload = () => resolve(paths[lib]);\n        s.onerror = () => reject(`Error loading script: ${paths[lib]}`);\n        document.getElementsByTagName(\"head\")[0].appendChild(s);\n      });\n    }\n\n    function showError(err) {\n      outputDiv.innerHTML = `<div class=\"error\" style=\"color:red;\">${err}</div>`;\n      throw err;\n    }\n\n    function displayChart(vegaEmbed) {\n      vegaEmbed(outputDiv, spec, embedOpt)\n        .catch(err => showError(`Javascript Error: ${err.message}<br>This usually means there's a typo in your chart specification. See the javascript console for the full traceback.`));\n    }\n\n    if(typeof define === \"function\" && define.amd) {\n      requirejs.config({paths});\n      require([\"vega-embed\"], displayChart, err => showError(`Error loading script: ${err.message}`));\n    } else if (typeof vegaEmbed === \"function\") {\n      displayChart(vegaEmbed);\n    } else {\n      loadScript(\"vega\")\n        .then(() => loadScript(\"vega-lite\"))\n        .then(() => loadScript(\"vega-embed\"))\n        .catch(showError)\n        .then(() => displayChart(vegaEmbed));\n    }\n  })({\"config\": {\"view\": {\"continuousWidth\": 400, \"continuousHeight\": 300}}, \"data\": {\"name\": \"data-5b03ff44f3bf68bec8f5d2248afba5a6\"}, \"mark\": \"bar\", \"encoding\": {\"x\": {\"type\": \"quantitative\", \"bin\": true, \"field\": \"moons\"}, \"y\": {\"type\": \"quantitative\", \"aggregate\": \"count\", \"title\": \"# of planets\"}}, \"$schema\": \"https://vega.github.io/schema/vega-lite/v4.8.1.json\", \"datasets\": {\"data-5b03ff44f3bf68bec8f5d2248afba5a6\": [{\"name\": \"Mercury\", \"diameter\": 4879, \"distance\": 57.91, \"moons\": 0, \"type\": \"planet\"}, {\"name\": \"Venus\", \"diameter\": 12104, \"distance\": 108.2, \"moons\": 0, \"type\": \"planet\"}, {\"name\": \"Earth\", \"diameter\": 12742, \"distance\": 149.6, \"moons\": 1, \"type\": \"planet\"}, {\"name\": \"Mars\", \"diameter\": 6779, \"distance\": 227.9, \"moons\": 2, \"type\": \"planet\"}, {\"name\": \"Ceres\", \"diameter\": 950, \"distance\": 414.3, \"moons\": 0, \"type\": \"dwarf planet\"}, {\"name\": \"Jupiter\", \"diameter\": 139822, \"distance\": 778.5, \"moons\": 79, \"type\": \"planet\"}, {\"name\": \"Saturn\", \"diameter\": 116464, \"distance\": 1434.0, \"moons\": 82, \"type\": \"planet\"}, {\"name\": \"Uranus\", \"diameter\": 50724, \"distance\": 2871.0, \"moons\": 27, \"type\": \"planet\"}, {\"name\": \"Neptune\", \"diameter\": 4495, \"distance\": 49244.0, \"moons\": 14, \"type\": \"planet\"}, {\"name\": \"Pluto\", \"diameter\": 2374, \"distance\": 5906.4, \"moons\": 5, \"type\": \"dwarf planet\"}, {\"name\": \"Haumea\", \"diameter\": 1960, \"distance\": 6459.9, \"moons\": 2, \"type\": \"dwarf planet\"}, {\"name\": \"Makemake\", \"diameter\": 1434, \"distance\": 6796.2, \"moons\": 1, \"type\": \"dwarf planet\"}, {\"name\": \"Eris\", \"diameter\": 2326, \"distance\": 10152.0, \"moons\": 1, \"type\": \"dwarf planet\"}]}}, {\"mode\": \"vega-lite\"});\n</script>",
      "text/plain": [
       "alt.Chart(...)"
      ]
     },
     "metadata": {},
     "execution_count": 10
    }
   ],
   "source": [
    "alt.Chart(planets).mark_bar().encode(\n",
    "    alt.X('moons', bin=True),\n",
    "    alt.Y('count()', title='# of planets')\n",
    ")"
   ]
  },
  {
   "cell_type": "code",
   "execution_count": null,
   "metadata": {},
   "outputs": [],
   "source": []
  }
 ],
 "metadata": {
  "kernelspec": {
   "display_name": "Python 3",
   "language": "python",
   "name": "python3"
  },
  "language_info": {
   "codemirror_mode": {
    "name": "ipython",
    "version": 3
   },
   "file_extension": ".py",
   "mimetype": "text/x-python",
   "name": "python",
   "nbconvert_exporter": "python",
   "pygments_lexer": "ipython3",
   "version": "3.9.0-final"
  }
 },
 "nbformat": 4,
 "nbformat_minor": 4
}