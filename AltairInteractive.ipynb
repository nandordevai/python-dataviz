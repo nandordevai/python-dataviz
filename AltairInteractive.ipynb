{
 "metadata": {
  "language_info": {
   "codemirror_mode": {
    "name": "ipython",
    "version": 3
   },
   "file_extension": ".py",
   "mimetype": "text/x-python",
   "name": "python",
   "nbconvert_exporter": "python",
   "pygments_lexer": "ipython3",
   "version": "3.9.0-final"
  },
  "orig_nbformat": 2,
  "kernelspec": {
   "name": "python3",
   "display_name": "Python 3"
  }
 },
 "nbformat": 4,
 "nbformat_minor": 2,
 "cells": [
  {
   "source": [
    "# Interaktív diagramok"
   ],
   "cell_type": "markdown",
   "metadata": {}
  },
  {
   "source": [
    "## Tooltipek"
   ],
   "cell_type": "markdown",
   "metadata": {}
  },
  {
   "cell_type": "code",
   "execution_count": 2,
   "metadata": {},
   "outputs": [],
   "source": [
    "import altair as alt\n",
    "import pandas as pd\n",
    "import numpy as np"
   ]
  },
  {
   "cell_type": "code",
   "execution_count": 20,
   "metadata": {},
   "outputs": [
    {
     "output_type": "execute_result",
     "data": {
      "text/plain": [
       "   x         y\n",
       "0  0  0.963003\n",
       "1  1  0.876976\n",
       "2  2  0.888421\n",
       "3  3  0.302660\n",
       "4  4  0.326225\n",
       "5  5  0.989080\n",
       "6  6  0.339872\n",
       "7  7  0.816928\n",
       "8  8  0.931614\n",
       "9  9  0.972982"
      ],
      "text/html": "<div>\n<style scoped>\n    .dataframe tbody tr th:only-of-type {\n        vertical-align: middle;\n    }\n\n    .dataframe tbody tr th {\n        vertical-align: top;\n    }\n\n    .dataframe thead th {\n        text-align: right;\n    }\n</style>\n<table border=\"1\" class=\"dataframe\">\n  <thead>\n    <tr style=\"text-align: right;\">\n      <th></th>\n      <th>x</th>\n      <th>y</th>\n    </tr>\n  </thead>\n  <tbody>\n    <tr>\n      <th>0</th>\n      <td>0</td>\n      <td>0.963003</td>\n    </tr>\n    <tr>\n      <th>1</th>\n      <td>1</td>\n      <td>0.876976</td>\n    </tr>\n    <tr>\n      <th>2</th>\n      <td>2</td>\n      <td>0.888421</td>\n    </tr>\n    <tr>\n      <th>3</th>\n      <td>3</td>\n      <td>0.302660</td>\n    </tr>\n    <tr>\n      <th>4</th>\n      <td>4</td>\n      <td>0.326225</td>\n    </tr>\n    <tr>\n      <th>5</th>\n      <td>5</td>\n      <td>0.989080</td>\n    </tr>\n    <tr>\n      <th>6</th>\n      <td>6</td>\n      <td>0.339872</td>\n    </tr>\n    <tr>\n      <th>7</th>\n      <td>7</td>\n      <td>0.816928</td>\n    </tr>\n    <tr>\n      <th>8</th>\n      <td>8</td>\n      <td>0.931614</td>\n    </tr>\n    <tr>\n      <th>9</th>\n      <td>9</td>\n      <td>0.972982</td>\n    </tr>\n  </tbody>\n</table>\n</div>"
     },
     "metadata": {},
     "execution_count": 20
    }
   ],
   "source": [
    "data = pd.DataFrame({\n",
    "    'x': np.arange(10),\n",
    "    'y': np.random.random(10)\n",
    "})\n",
    "data"
   ]
  },
  {
   "cell_type": "code",
   "execution_count": 4,
   "metadata": {},
   "outputs": [
    {
     "output_type": "execute_result",
     "data": {
      "text/html": "\n<div id=\"altair-viz-61efc4d9ac954a539e801086acfb0621\"></div>\n<script type=\"text/javascript\">\n  (function(spec, embedOpt){\n    let outputDiv = document.currentScript.previousElementSibling;\n    if (outputDiv.id !== \"altair-viz-61efc4d9ac954a539e801086acfb0621\") {\n      outputDiv = document.getElementById(\"altair-viz-61efc4d9ac954a539e801086acfb0621\");\n    }\n    const paths = {\n      \"vega\": \"https://cdn.jsdelivr.net/npm//vega@5?noext\",\n      \"vega-lib\": \"https://cdn.jsdelivr.net/npm//vega-lib?noext\",\n      \"vega-lite\": \"https://cdn.jsdelivr.net/npm//vega-lite@4.8.1?noext\",\n      \"vega-embed\": \"https://cdn.jsdelivr.net/npm//vega-embed@6?noext\",\n    };\n\n    function loadScript(lib) {\n      return new Promise(function(resolve, reject) {\n        var s = document.createElement('script');\n        s.src = paths[lib];\n        s.async = true;\n        s.onload = () => resolve(paths[lib]);\n        s.onerror = () => reject(`Error loading script: ${paths[lib]}`);\n        document.getElementsByTagName(\"head\")[0].appendChild(s);\n      });\n    }\n\n    function showError(err) {\n      outputDiv.innerHTML = `<div class=\"error\" style=\"color:red;\">${err}</div>`;\n      throw err;\n    }\n\n    function displayChart(vegaEmbed) {\n      vegaEmbed(outputDiv, spec, embedOpt)\n        .catch(err => showError(`Javascript Error: ${err.message}<br>This usually means there's a typo in your chart specification. See the javascript console for the full traceback.`));\n    }\n\n    if(typeof define === \"function\" && define.amd) {\n      requirejs.config({paths});\n      require([\"vega-embed\"], displayChart, err => showError(`Error loading script: ${err.message}`));\n    } else if (typeof vegaEmbed === \"function\") {\n      displayChart(vegaEmbed);\n    } else {\n      loadScript(\"vega\")\n        .then(() => loadScript(\"vega-lite\"))\n        .then(() => loadScript(\"vega-embed\"))\n        .catch(showError)\n        .then(() => displayChart(vegaEmbed));\n    }\n  })({\"config\": {\"view\": {\"continuousWidth\": 400, \"continuousHeight\": 300}}, \"data\": {\"name\": \"data-a5b317606895d2629a3971e0e8a496a9\"}, \"mark\": {\"type\": \"point\", \"size\": 60}, \"encoding\": {\"tooltip\": [{\"type\": \"quantitative\", \"field\": \"x\", \"title\": \"Value of X\"}, {\"type\": \"quantitative\", \"field\": \"y\", \"title\": \"Value of Y\"}], \"x\": {\"type\": \"quantitative\", \"field\": \"x\"}, \"y\": {\"type\": \"quantitative\", \"field\": \"y\"}}, \"$schema\": \"https://vega.github.io/schema/vega-lite/v4.8.1.json\", \"datasets\": {\"data-a5b317606895d2629a3971e0e8a496a9\": [{\"x\": 0, \"y\": 0.7276865824119846}, {\"x\": 1, \"y\": 0.7906551169405067}, {\"x\": 2, \"y\": 0.9229949003406528}, {\"x\": 3, \"y\": 0.4232723149497656}, {\"x\": 4, \"y\": 0.2786896605793632}, {\"x\": 5, \"y\": 0.7462776164989104}, {\"x\": 6, \"y\": 0.23037294006463915}, {\"x\": 7, \"y\": 0.9470197771831514}, {\"x\": 8, \"y\": 0.2665795521694633}, {\"x\": 9, \"y\": 0.6588684533056584}]}}, {\"mode\": \"vega-lite\"});\n</script>",
      "text/plain": [
       "alt.Chart(...)"
      ]
     },
     "metadata": {},
     "execution_count": 4
    }
   ],
   "source": [
    "alt.Chart(data).mark_point(\n",
    "    size=60\n",
    ").encode(\n",
    "    x='x',\n",
    "    y='y',\n",
    "    tooltip=[\n",
    "        alt.Tooltip(field='x', type='quantitative', title='Value of X'),\n",
    "        alt.Tooltip(field='y', type='quantitative', title='Value of Y')\n",
    "    ]\n",
    ")"
   ]
  },
  {
   "source": [
    "## Kiválasztás"
   ],
   "cell_type": "markdown",
   "metadata": {}
  },
  {
   "cell_type": "code",
   "execution_count": 60,
   "metadata": {},
   "outputs": [
    {
     "output_type": "execute_result",
     "data": {
      "text/html": "\n<div id=\"altair-viz-c6bb3c6e12e149cba847bc6381016323\"></div>\n<script type=\"text/javascript\">\n  (function(spec, embedOpt){\n    let outputDiv = document.currentScript.previousElementSibling;\n    if (outputDiv.id !== \"altair-viz-c6bb3c6e12e149cba847bc6381016323\") {\n      outputDiv = document.getElementById(\"altair-viz-c6bb3c6e12e149cba847bc6381016323\");\n    }\n    const paths = {\n      \"vega\": \"https://cdn.jsdelivr.net/npm//vega@5?noext\",\n      \"vega-lib\": \"https://cdn.jsdelivr.net/npm//vega-lib?noext\",\n      \"vega-lite\": \"https://cdn.jsdelivr.net/npm//vega-lite@4.8.1?noext\",\n      \"vega-embed\": \"https://cdn.jsdelivr.net/npm//vega-embed@6?noext\",\n    };\n\n    function loadScript(lib) {\n      return new Promise(function(resolve, reject) {\n        var s = document.createElement('script');\n        s.src = paths[lib];\n        s.async = true;\n        s.onload = () => resolve(paths[lib]);\n        s.onerror = () => reject(`Error loading script: ${paths[lib]}`);\n        document.getElementsByTagName(\"head\")[0].appendChild(s);\n      });\n    }\n\n    function showError(err) {\n      outputDiv.innerHTML = `<div class=\"error\" style=\"color:red;\">${err}</div>`;\n      throw err;\n    }\n\n    function displayChart(vegaEmbed) {\n      vegaEmbed(outputDiv, spec, embedOpt)\n        .catch(err => showError(`Javascript Error: ${err.message}<br>This usually means there's a typo in your chart specification. See the javascript console for the full traceback.`));\n    }\n\n    if(typeof define === \"function\" && define.amd) {\n      requirejs.config({paths});\n      require([\"vega-embed\"], displayChart, err => showError(`Error loading script: ${err.message}`));\n    } else if (typeof vegaEmbed === \"function\") {\n      displayChart(vegaEmbed);\n    } else {\n      loadScript(\"vega\")\n        .then(() => loadScript(\"vega-lite\"))\n        .then(() => loadScript(\"vega-embed\"))\n        .catch(showError)\n        .then(() => displayChart(vegaEmbed));\n    }\n  })({\"config\": {\"view\": {\"continuousWidth\": 400, \"continuousHeight\": 300}}, \"data\": {\"name\": \"data-bf02f3e3b9a744b8e8ed206d12e3c624\"}, \"mark\": {\"type\": \"bar\", \"size\": 30}, \"encoding\": {\"color\": {\"condition\": {\"value\": \"#16a\", \"selection\": \"selector048\"}, \"value\": \"#ccc\"}, \"x\": {\"type\": \"quantitative\", \"field\": \"x\"}, \"y\": {\"type\": \"quantitative\", \"field\": \"y\"}}, \"selection\": {\"selector048\": {\"type\": \"single\", \"init\": {\"x\": 0}}}, \"$schema\": \"https://vega.github.io/schema/vega-lite/v4.8.1.json\", \"datasets\": {\"data-bf02f3e3b9a744b8e8ed206d12e3c624\": [{\"x\": 0, \"y\": 0.9630029562388813}, {\"x\": 1, \"y\": 0.8769760269142433}, {\"x\": 2, \"y\": 0.8884214972742375}, {\"x\": 3, \"y\": 0.3026599555804286}, {\"x\": 4, \"y\": 0.32622523975208206}, {\"x\": 5, \"y\": 0.9890804425273467}, {\"x\": 6, \"y\": 0.3398715611794114}, {\"x\": 7, \"y\": 0.8169280963464426}, {\"x\": 8, \"y\": 0.9316140567488759}, {\"x\": 9, \"y\": 0.9729816685519496}]}}, {\"mode\": \"vega-lite\"});\n</script>",
      "text/plain": [
       "alt.Chart(...)"
      ]
     },
     "metadata": {},
     "execution_count": 60
    }
   ],
   "source": [
    "selector = alt.selection(\n",
    "    type='single',\n",
    "    init={'x': 0}\n",
    ")\n",
    "\n",
    "alt.Chart(data).mark_bar(\n",
    "    size=30\n",
    ").encode(\n",
    "    x='x',\n",
    "    y='y',\n",
    "    color=alt.condition(selector, alt.ColorValue('#16a'), alt.ColorValue('#ccc'))\n",
    ").add_selection(selector)"
   ]
  },
  {
   "source": [
    "## Brush"
   ],
   "cell_type": "markdown",
   "metadata": {}
  },
  {
   "cell_type": "code",
   "execution_count": 61,
   "metadata": {},
   "outputs": [],
   "source": [
    "data = pd.DataFrame({\n",
    "    'x': np.arange(100),\n",
    "    'y': np.random.random(100)\n",
    "})"
   ]
  },
  {
   "cell_type": "code",
   "execution_count": 62,
   "metadata": {},
   "outputs": [],
   "source": [
    "base = alt.Chart(data).encode(\n",
    "    x='x',\n",
    "    y='y'\n",
    ")"
   ]
  },
  {
   "cell_type": "code",
   "execution_count": 32,
   "metadata": {},
   "outputs": [
    {
     "output_type": "execute_result",
     "data": {
      "text/html": "\n<div id=\"altair-viz-5e3cb481879c470a9ee722affe5447b4\"></div>\n<script type=\"text/javascript\">\n  (function(spec, embedOpt){\n    let outputDiv = document.currentScript.previousElementSibling;\n    if (outputDiv.id !== \"altair-viz-5e3cb481879c470a9ee722affe5447b4\") {\n      outputDiv = document.getElementById(\"altair-viz-5e3cb481879c470a9ee722affe5447b4\");\n    }\n    const paths = {\n      \"vega\": \"https://cdn.jsdelivr.net/npm//vega@5?noext\",\n      \"vega-lib\": \"https://cdn.jsdelivr.net/npm//vega-lib?noext\",\n      \"vega-lite\": \"https://cdn.jsdelivr.net/npm//vega-lite@4.8.1?noext\",\n      \"vega-embed\": \"https://cdn.jsdelivr.net/npm//vega-embed@6?noext\",\n    };\n\n    function loadScript(lib) {\n      return new Promise(function(resolve, reject) {\n        var s = document.createElement('script');\n        s.src = paths[lib];\n        s.async = true;\n        s.onload = () => resolve(paths[lib]);\n        s.onerror = () => reject(`Error loading script: ${paths[lib]}`);\n        document.getElementsByTagName(\"head\")[0].appendChild(s);\n      });\n    }\n\n    function showError(err) {\n      outputDiv.innerHTML = `<div class=\"error\" style=\"color:red;\">${err}</div>`;\n      throw err;\n    }\n\n    function displayChart(vegaEmbed) {\n      vegaEmbed(outputDiv, spec, embedOpt)\n        .catch(err => showError(`Javascript Error: ${err.message}<br>This usually means there's a typo in your chart specification. See the javascript console for the full traceback.`));\n    }\n\n    if(typeof define === \"function\" && define.amd) {\n      requirejs.config({paths});\n      require([\"vega-embed\"], displayChart, err => showError(`Error loading script: ${err.message}`));\n    } else if (typeof vegaEmbed === \"function\") {\n      displayChart(vegaEmbed);\n    } else {\n      loadScript(\"vega\")\n        .then(() => loadScript(\"vega-lite\"))\n        .then(() => loadScript(\"vega-embed\"))\n        .catch(showError)\n        .then(() => displayChart(vegaEmbed));\n    }\n  })({\"config\": {\"view\": {\"continuousWidth\": 400, \"continuousHeight\": 300}}, \"vconcat\": [{\"mark\": \"line\", \"encoding\": {\"x\": {\"type\": \"quantitative\", \"field\": \"x\", \"scale\": {\"domain\": {\"selection\": \"selector010\"}}}, \"y\": {\"type\": \"quantitative\", \"field\": \"y\"}}, \"height\": 250, \"width\": 500}, {\"mark\": \"area\", \"encoding\": {\"x\": {\"type\": \"quantitative\", \"field\": \"x\"}, \"y\": {\"type\": \"quantitative\", \"field\": \"y\"}}, \"height\": 80, \"selection\": {\"selector010\": {\"type\": \"interval\", \"encodings\": [\"x\"]}}, \"width\": 500}], \"data\": {\"name\": \"data-8ddaa78bb72a5cb50689f96de5435dcf\"}, \"$schema\": \"https://vega.github.io/schema/vega-lite/v4.8.1.json\", \"datasets\": {\"data-8ddaa78bb72a5cb50689f96de5435dcf\": [{\"x\": 0, \"y\": 0.46239174735699384}, {\"x\": 1, \"y\": 0.5434589202210867}, {\"x\": 2, \"y\": 0.04307913990028356}, {\"x\": 3, \"y\": 0.22478824928796137}, {\"x\": 4, \"y\": 0.0688641647191186}, {\"x\": 5, \"y\": 0.3093875874843338}, {\"x\": 6, \"y\": 0.37525016712376846}, {\"x\": 7, \"y\": 0.23536684549762266}, {\"x\": 8, \"y\": 0.12029925454520352}, {\"x\": 9, \"y\": 0.3650266497609883}, {\"x\": 10, \"y\": 0.6598800991355385}, {\"x\": 11, \"y\": 0.12657831138894426}, {\"x\": 12, \"y\": 0.4256361276099978}, {\"x\": 13, \"y\": 0.3638452787930909}, {\"x\": 14, \"y\": 0.17061873314123877}, {\"x\": 15, \"y\": 0.036474577462374036}, {\"x\": 16, \"y\": 0.0683394626624817}, {\"x\": 17, \"y\": 0.6956409127754796}, {\"x\": 18, \"y\": 0.2942003732361449}, {\"x\": 19, \"y\": 0.2777316823417082}, {\"x\": 20, \"y\": 0.6620678007636497}, {\"x\": 21, \"y\": 0.9077562175854176}, {\"x\": 22, \"y\": 0.9084547938452802}, {\"x\": 23, \"y\": 0.7881790382824273}, {\"x\": 24, \"y\": 0.17467471000753387}, {\"x\": 25, \"y\": 0.4322237116471608}, {\"x\": 26, \"y\": 0.4507784285876256}, {\"x\": 27, \"y\": 0.10468577308033411}, {\"x\": 28, \"y\": 0.16463132888950527}, {\"x\": 29, \"y\": 0.14582444815257334}, {\"x\": 30, \"y\": 0.1553310837290406}, {\"x\": 31, \"y\": 0.7932432005113718}, {\"x\": 32, \"y\": 0.0791009622784884}, {\"x\": 33, \"y\": 0.4620621123409804}, {\"x\": 34, \"y\": 0.5828207497612033}, {\"x\": 35, \"y\": 0.9780663191059884}, {\"x\": 36, \"y\": 0.6186750693904406}, {\"x\": 37, \"y\": 0.20251873079455618}, {\"x\": 38, \"y\": 0.22357267340023934}, {\"x\": 39, \"y\": 0.15508448629980343}, {\"x\": 40, \"y\": 0.09817324334164668}, {\"x\": 41, \"y\": 0.6224610888808125}, {\"x\": 42, \"y\": 0.41587294784462636}, {\"x\": 43, \"y\": 0.46783168950045206}, {\"x\": 44, \"y\": 0.932364265693077}, {\"x\": 45, \"y\": 0.7712739065396619}, {\"x\": 46, \"y\": 0.315629484455728}, {\"x\": 47, \"y\": 0.5026785787394386}, {\"x\": 48, \"y\": 0.21138123081328875}, {\"x\": 49, \"y\": 0.8725191018267157}, {\"x\": 50, \"y\": 0.5924708629093192}, {\"x\": 51, \"y\": 0.5617665633984854}, {\"x\": 52, \"y\": 0.3328452353625839}, {\"x\": 53, \"y\": 0.6403760116617137}, {\"x\": 54, \"y\": 0.03951479559193771}, {\"x\": 55, \"y\": 0.46531532485636984}, {\"x\": 56, \"y\": 0.7899101412121166}, {\"x\": 57, \"y\": 0.39557486300530575}, {\"x\": 58, \"y\": 0.444245336498547}, {\"x\": 59, \"y\": 0.630678120466015}, {\"x\": 60, \"y\": 0.1036715558436263}, {\"x\": 61, \"y\": 0.8754550836616727}, {\"x\": 62, \"y\": 0.38995347000728486}, {\"x\": 63, \"y\": 0.2683129848631698}, {\"x\": 64, \"y\": 0.14572999008514886}, {\"x\": 65, \"y\": 0.06945545694298405}, {\"x\": 66, \"y\": 0.5713036625275564}, {\"x\": 67, \"y\": 0.7460622056916267}, {\"x\": 68, \"y\": 0.0633184804981668}, {\"x\": 69, \"y\": 0.13205887850735898}, {\"x\": 70, \"y\": 0.5136432149668848}, {\"x\": 71, \"y\": 0.8637576092328552}, {\"x\": 72, \"y\": 0.606473846093838}, {\"x\": 73, \"y\": 0.8473274116197644}, {\"x\": 74, \"y\": 0.092727103590165}, {\"x\": 75, \"y\": 0.9039650342886489}, {\"x\": 76, \"y\": 0.618813645381895}, {\"x\": 77, \"y\": 0.756386393961143}, {\"x\": 78, \"y\": 0.4580804744228829}, {\"x\": 79, \"y\": 0.6582773342801704}, {\"x\": 80, \"y\": 0.5498366914928698}, {\"x\": 81, \"y\": 0.144389228881317}, {\"x\": 82, \"y\": 0.5642403267660925}, {\"x\": 83, \"y\": 0.10585830042239608}, {\"x\": 84, \"y\": 0.5159136502170165}, {\"x\": 85, \"y\": 0.27066492257148356}, {\"x\": 86, \"y\": 0.533606345705685}, {\"x\": 87, \"y\": 0.8897745642578725}, {\"x\": 88, \"y\": 0.7500356486702872}, {\"x\": 89, \"y\": 0.7240730615860165}, {\"x\": 90, \"y\": 0.31875060222065676}, {\"x\": 91, \"y\": 0.004539664787043818}, {\"x\": 92, \"y\": 0.7412721367948503}, {\"x\": 93, \"y\": 0.310812802117855}, {\"x\": 94, \"y\": 0.01136339741829695}, {\"x\": 95, \"y\": 0.41424595985481927}, {\"x\": 96, \"y\": 0.5264818856335433}, {\"x\": 97, \"y\": 0.7291278797903772}, {\"x\": 98, \"y\": 0.1740147466507007}, {\"x\": 99, \"y\": 0.3638337918229977}]}}, {\"mode\": \"vega-lite\"});\n</script>",
      "text/plain": [
       "alt.VConcatChart(...)"
      ]
     },
     "metadata": {},
     "execution_count": 32
    }
   ],
   "source": [
    "brush = alt.selection(\n",
    "    type='interval', \n",
    "    encodings=['x']\n",
    ")\n",
    "\n",
    "upper = base.encode(\n",
    "    alt.X('x', scale=alt.Scale(domain=brush))\n",
    ").properties(\n",
    "    width=500, \n",
    "    height=250\n",
    ").mark_line()\n",
    "\n",
    "lower = base.properties(\n",
    "    width=500, \n",
    "    height=80\n",
    ").add_selection(brush).mark_area()\n",
    "\n",
    "upper & lower"
   ]
  },
  {
   "cell_type": "code",
   "execution_count": null,
   "metadata": {},
   "outputs": [],
   "source": []
  }
 ]
}