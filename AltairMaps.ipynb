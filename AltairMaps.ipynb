{
 "metadata": {
  "language_info": {
   "codemirror_mode": {
    "name": "ipython",
    "version": 3
   },
   "file_extension": ".py",
   "mimetype": "text/x-python",
   "name": "python",
   "nbconvert_exporter": "python",
   "pygments_lexer": "ipython3",
   "version": "3.9.0-final"
  },
  "orig_nbformat": 2,
  "kernelspec": {
   "name": "python3",
   "display_name": "Python 3"
  }
 },
 "nbformat": 4,
 "nbformat_minor": 2,
 "cells": [
  {
   "source": [
    "# Térképek"
   ],
   "cell_type": "markdown",
   "metadata": {}
  },
  {
   "cell_type": "code",
   "execution_count": 44,
   "metadata": {},
   "outputs": [],
   "source": [
    "import altair as alt\n",
    "from vega_datasets import data"
   ]
  },
  {
   "cell_type": "code",
   "execution_count": 45,
   "metadata": {},
   "outputs": [
    {
     "output_type": "execute_result",
     "data": {
      "text/html": "\n<div id=\"altair-viz-fc220fef4a654695a8322f795f3add2e\"></div>\n<script type=\"text/javascript\">\n  (function(spec, embedOpt){\n    let outputDiv = document.currentScript.previousElementSibling;\n    if (outputDiv.id !== \"altair-viz-fc220fef4a654695a8322f795f3add2e\") {\n      outputDiv = document.getElementById(\"altair-viz-fc220fef4a654695a8322f795f3add2e\");\n    }\n    const paths = {\n      \"vega\": \"https://cdn.jsdelivr.net/npm//vega@5?noext\",\n      \"vega-lib\": \"https://cdn.jsdelivr.net/npm//vega-lib?noext\",\n      \"vega-lite\": \"https://cdn.jsdelivr.net/npm//vega-lite@4.8.1?noext\",\n      \"vega-embed\": \"https://cdn.jsdelivr.net/npm//vega-embed@6?noext\",\n    };\n\n    function loadScript(lib) {\n      return new Promise(function(resolve, reject) {\n        var s = document.createElement('script');\n        s.src = paths[lib];\n        s.async = true;\n        s.onload = () => resolve(paths[lib]);\n        s.onerror = () => reject(`Error loading script: ${paths[lib]}`);\n        document.getElementsByTagName(\"head\")[0].appendChild(s);\n      });\n    }\n\n    function showError(err) {\n      outputDiv.innerHTML = `<div class=\"error\" style=\"color:red;\">${err}</div>`;\n      throw err;\n    }\n\n    function displayChart(vegaEmbed) {\n      vegaEmbed(outputDiv, spec, embedOpt)\n        .catch(err => showError(`Javascript Error: ${err.message}<br>This usually means there's a typo in your chart specification. See the javascript console for the full traceback.`));\n    }\n\n    if(typeof define === \"function\" && define.amd) {\n      requirejs.config({paths});\n      require([\"vega-embed\"], displayChart, err => showError(`Error loading script: ${err.message}`));\n    } else if (typeof vegaEmbed === \"function\") {\n      displayChart(vegaEmbed);\n    } else {\n      loadScript(\"vega\")\n        .then(() => loadScript(\"vega-lite\"))\n        .then(() => loadScript(\"vega-embed\"))\n        .catch(showError)\n        .then(() => displayChart(vegaEmbed));\n    }\n  })({\"config\": {\"view\": {\"continuousWidth\": 400, \"continuousHeight\": 300}}, \"data\": {\"url\": \"https://vega.github.io/vega-datasets/data/world-110m.json\", \"format\": {\"feature\": \"countries\", \"type\": \"topojson\"}}, \"mark\": {\"type\": \"geoshape\", \"fill\": \"#999\", \"stroke\": \"#fff\", \"strokeWidth\": 0.5}, \"height\": 600, \"projection\": {\"pointRadius\": 1, \"rotate\": [-30, -30, 0], \"type\": \"orthographic\"}, \"width\": 600, \"$schema\": \"https://vega.github.io/schema/vega-lite/v4.8.1.json\"}, {\"mode\": \"vega-lite\"});\n</script>",
      "text/plain": [
       "alt.Chart(...)"
      ]
     },
     "metadata": {},
     "execution_count": 45
    }
   ],
   "source": [
    "countries = alt.topo_feature(data.world_110m.url, 'countries')\n",
    "\n",
    "alt.Chart(countries).mark_geoshape(\n",
    "    fill='#999',\n",
    "    stroke='#fff',\n",
    "    strokeWidth=0.5\n",
    ").project(\n",
    "    rotate=[-30, -30, 0],\n",
    "    type='orthographic',\n",
    "    pointRadius=1\n",
    ").properties(\n",
    "    width=600,\n",
    "    height=600\n",
    ")"
   ]
  },
  {
   "cell_type": "code",
   "execution_count": 55,
   "metadata": {},
   "outputs": [
    {
     "output_type": "execute_result",
     "data": {
      "text/html": "\n<div id=\"altair-viz-acbcf109604f49639e279472053216aa\"></div>\n<script type=\"text/javascript\">\n  (function(spec, embedOpt){\n    let outputDiv = document.currentScript.previousElementSibling;\n    if (outputDiv.id !== \"altair-viz-acbcf109604f49639e279472053216aa\") {\n      outputDiv = document.getElementById(\"altair-viz-acbcf109604f49639e279472053216aa\");\n    }\n    const paths = {\n      \"vega\": \"https://cdn.jsdelivr.net/npm//vega@5?noext\",\n      \"vega-lib\": \"https://cdn.jsdelivr.net/npm//vega-lib?noext\",\n      \"vega-lite\": \"https://cdn.jsdelivr.net/npm//vega-lite@4.8.1?noext\",\n      \"vega-embed\": \"https://cdn.jsdelivr.net/npm//vega-embed@6?noext\",\n    };\n\n    function loadScript(lib) {\n      return new Promise(function(resolve, reject) {\n        var s = document.createElement('script');\n        s.src = paths[lib];\n        s.async = true;\n        s.onload = () => resolve(paths[lib]);\n        s.onerror = () => reject(`Error loading script: ${paths[lib]}`);\n        document.getElementsByTagName(\"head\")[0].appendChild(s);\n      });\n    }\n\n    function showError(err) {\n      outputDiv.innerHTML = `<div class=\"error\" style=\"color:red;\">${err}</div>`;\n      throw err;\n    }\n\n    function displayChart(vegaEmbed) {\n      vegaEmbed(outputDiv, spec, embedOpt)\n        .catch(err => showError(`Javascript Error: ${err.message}<br>This usually means there's a typo in your chart specification. See the javascript console for the full traceback.`));\n    }\n\n    if(typeof define === \"function\" && define.amd) {\n      requirejs.config({paths});\n      require([\"vega-embed\"], displayChart, err => showError(`Error loading script: ${err.message}`));\n    } else if (typeof vegaEmbed === \"function\") {\n      displayChart(vegaEmbed);\n    } else {\n      loadScript(\"vega\")\n        .then(() => loadScript(\"vega-lite\"))\n        .then(() => loadScript(\"vega-embed\"))\n        .catch(showError)\n        .then(() => displayChart(vegaEmbed));\n    }\n  })({\"config\": {\"view\": {\"continuousWidth\": 400, \"continuousHeight\": 300}}, \"layer\": [{\"data\": {\"url\": \"https://vega.github.io/vega-datasets/data/world-110m.json\", \"format\": {\"feature\": \"countries\", \"type\": \"topojson\"}}, \"mark\": {\"type\": \"geoshape\", \"fill\": \"#999\", \"stroke\": \"#fff\", \"strokeWidth\": 0.5}}, {\"data\": {\"url\": \"ne_10m_populated_places_simple.json\", \"format\": {\"feature\": \"Point\", \"type\": \"topojson\"}}, \"mark\": \"geoshape\"}], \"height\": 600, \"projection\": {\"pointRadius\": 1, \"rotate\": [-30, -30, 0], \"type\": \"orthographic\"}, \"width\": 600, \"$schema\": \"https://vega.github.io/schema/vega-lite/v4.8.1.json\"}, {\"mode\": \"vega-lite\"});\n</script>",
      "text/plain": [
       "alt.LayerChart(...)"
      ]
     },
     "metadata": {},
     "execution_count": 55
    }
   ],
   "source": [
    "countries = alt.topo_feature(data.world_110m.url, 'countries')\n",
    "places = alt.topo_feature('ne_10m_populated_places_simple.json', 'Point')\n",
    "\n",
    "alt.layer(\n",
    "    alt.Chart(countries).mark_geoshape(\n",
    "        fill='#999',\n",
    "        stroke='#fff',\n",
    "        strokeWidth=0.5\n",
    "    ),\n",
    "    alt.Chart(places).mark_geoshape()\n",
    ").project(\n",
    "    rotate=[-30, -30, 0],\n",
    "    type='orthographic',\n",
    "    pointRadius=1\n",
    ").properties(\n",
    "    width=600,\n",
    "    height=600\n",
    ")"
   ]
  },
  {
   "source": [
    "## Kartogram"
   ],
   "cell_type": "markdown",
   "metadata": {}
  },
  {
   "cell_type": "code",
   "execution_count": 80,
   "metadata": {},
   "outputs": [
    {
     "output_type": "execute_result",
     "data": {
      "text/html": "\n<div id=\"altair-viz-c57a09e1bbbf4576be794acba27bc9e5\"></div>\n<script type=\"text/javascript\">\n  (function(spec, embedOpt){\n    let outputDiv = document.currentScript.previousElementSibling;\n    if (outputDiv.id !== \"altair-viz-c57a09e1bbbf4576be794acba27bc9e5\") {\n      outputDiv = document.getElementById(\"altair-viz-c57a09e1bbbf4576be794acba27bc9e5\");\n    }\n    const paths = {\n      \"vega\": \"https://cdn.jsdelivr.net/npm//vega@5?noext\",\n      \"vega-lib\": \"https://cdn.jsdelivr.net/npm//vega-lib?noext\",\n      \"vega-lite\": \"https://cdn.jsdelivr.net/npm//vega-lite@4.8.1?noext\",\n      \"vega-embed\": \"https://cdn.jsdelivr.net/npm//vega-embed@6?noext\",\n    };\n\n    function loadScript(lib) {\n      return new Promise(function(resolve, reject) {\n        var s = document.createElement('script');\n        s.src = paths[lib];\n        s.async = true;\n        s.onload = () => resolve(paths[lib]);\n        s.onerror = () => reject(`Error loading script: ${paths[lib]}`);\n        document.getElementsByTagName(\"head\")[0].appendChild(s);\n      });\n    }\n\n    function showError(err) {\n      outputDiv.innerHTML = `<div class=\"error\" style=\"color:red;\">${err}</div>`;\n      throw err;\n    }\n\n    function displayChart(vegaEmbed) {\n      vegaEmbed(outputDiv, spec, embedOpt)\n        .catch(err => showError(`Javascript Error: ${err.message}<br>This usually means there's a typo in your chart specification. See the javascript console for the full traceback.`));\n    }\n\n    if(typeof define === \"function\" && define.amd) {\n      requirejs.config({paths});\n      require([\"vega-embed\"], displayChart, err => showError(`Error loading script: ${err.message}`));\n    } else if (typeof vegaEmbed === \"function\") {\n      displayChart(vegaEmbed);\n    } else {\n      loadScript(\"vega\")\n        .then(() => loadScript(\"vega-lite\"))\n        .then(() => loadScript(\"vega-embed\"))\n        .catch(showError)\n        .then(() => displayChart(vegaEmbed));\n    }\n  })({\"config\": {\"view\": {\"continuousWidth\": 400, \"continuousHeight\": 300}}, \"data\": {\"url\": \"https://vega.github.io/vega-datasets/data/us-10m.json\", \"format\": {\"feature\": \"states\", \"type\": \"topojson\"}}, \"mark\": \"geoshape\", \"encoding\": {\"color\": {\"type\": \"quantitative\", \"field\": \"population\"}}, \"height\": 400, \"projection\": {\"type\": \"albersUsa\"}, \"transform\": [{\"lookup\": \"id\", \"from\": {\"data\": {\"name\": \"data-f542cff2be32d632889cfdb56d69f630\"}, \"key\": \"id\", \"fields\": [\"population\"]}}], \"width\": 600, \"$schema\": \"https://vega.github.io/schema/vega-lite/v4.8.1.json\", \"datasets\": {\"data-f542cff2be32d632889cfdb56d69f630\": [{\"state\": \"Alabama\", \"id\": 1, \"population\": 4863300, \"engineers\": 0.003421545, \"hurricanes\": 22}, {\"state\": \"Alaska\", \"id\": 2, \"population\": 741894, \"engineers\": 0.0015905239999999998, \"hurricanes\": 0}, {\"state\": \"Arizona\", \"id\": 4, \"population\": 6931071, \"engineers\": 0.004774154, \"hurricanes\": 0}, {\"state\": \"Arkansas\", \"id\": 5, \"population\": 2988248, \"engineers\": 0.002439557, \"hurricanes\": 0}, {\"state\": \"California\", \"id\": 6, \"population\": 39250017, \"engineers\": 0.007125856999999999, \"hurricanes\": 0}, {\"state\": \"Colorado\", \"id\": 8, \"population\": 5540545, \"engineers\": 0.008087651999999999, \"hurricanes\": 0}, {\"state\": \"Connecticut\", \"id\": 9, \"population\": 3576452, \"engineers\": 0.0058969059999999995, \"hurricanes\": 10}, {\"state\": \"Delaware\", \"id\": 10, \"population\": 952065, \"engineers\": 0.004989155, \"hurricanes\": 2}, {\"state\": \"District of Columbia\", \"id\": 11, \"population\": 681170, \"engineers\": 0.011759179, \"hurricanes\": 0}, {\"state\": \"Florida\", \"id\": 12, \"population\": 20612439, \"engineers\": 0.0032999490000000004, \"hurricanes\": 110}, {\"state\": \"Georgia\", \"id\": 13, \"population\": 10310371, \"engineers\": 0.0049396859999999996, \"hurricanes\": 20}, {\"state\": \"Hawaii\", \"id\": 15, \"population\": 1428557, \"engineers\": 0.001624016, \"hurricanes\": 0}, {\"state\": \"Idaho\", \"id\": 16, \"population\": 1683140, \"engineers\": 0.002970638, \"hurricanes\": 0}, {\"state\": \"Illinois\", \"id\": 17, \"population\": 12801539, \"engineers\": 0.004478368, \"hurricanes\": 0}, {\"state\": \"Indiana\", \"id\": 18, \"population\": 6633053, \"engineers\": 0.0027242359999999997, \"hurricanes\": 0}, {\"state\": \"Iowa\", \"id\": 19, \"population\": 3134693, \"engineers\": 0.003716472, \"hurricanes\": 0}, {\"state\": \"Kansas\", \"id\": 20, \"population\": 2907289, \"engineers\": 0.003811111, \"hurricanes\": 0}, {\"state\": \"Kentucky\", \"id\": 21, \"population\": 4436974, \"engineers\": 0.002089262, \"hurricanes\": 0}, {\"state\": \"Louisiana\", \"id\": 22, \"population\": 4681666, \"engineers\": 0.001176931, \"hurricanes\": 49}, {\"state\": \"Maine\", \"id\": 23, \"population\": 1331479, \"engineers\": 0.002290686, \"hurricanes\": 6}, {\"state\": \"Maryland\", \"id\": 24, \"population\": 6016447, \"engineers\": 0.006291088, \"hurricanes\": 2}, {\"state\": \"Massachusetts\", \"id\": 25, \"population\": 6811779, \"engineers\": 0.010230808000000001, \"hurricanes\": 10}, {\"state\": \"Michigan\", \"id\": 26, \"population\": 9928300, \"engineers\": 0.003876797, \"hurricanes\": 0}, {\"state\": \"Minnesota\", \"id\": 27, \"population\": 5519952, \"engineers\": 0.006193894, \"hurricanes\": 0}, {\"state\": \"Mississippi\", \"id\": 28, \"population\": 2988726, \"engineers\": 0.000933508, \"hurricanes\": 15}, {\"state\": \"Missouri\", \"id\": 29, \"population\": 6093000, \"engineers\": 0.004413261, \"hurricanes\": 0}, {\"state\": \"Montana\", \"id\": 30, \"population\": 1042520, \"engineers\": 0.0021390479999999997, \"hurricanes\": 0}, {\"state\": \"Nebraska\", \"id\": 31, \"population\": 1907116, \"engineers\": 0.005621053000000001, \"hurricanes\": 0}, {\"state\": \"Nevada\", \"id\": 32, \"population\": 2940058, \"engineers\": 0.002037375, \"hurricanes\": 0}, {\"state\": \"New Hampshire\", \"id\": 33, \"population\": 1334795, \"engineers\": 0.00633056, \"hurricanes\": 2}, {\"state\": \"New Jersey\", \"id\": 34, \"population\": 8944469, \"engineers\": 0.007724327, \"hurricanes\": 2}, {\"state\": \"New Mexico\", \"id\": 35, \"population\": 2081015, \"engineers\": 0.001883696, \"hurricanes\": 0}, {\"state\": \"New York\", \"id\": 36, \"population\": 19745289, \"engineers\": 0.004941432, \"hurricanes\": 12}, {\"state\": \"North Carolina\", \"id\": 37, \"population\": 10146788, \"engineers\": 0.004226953, \"hurricanes\": 46}, {\"state\": \"North Dakota\", \"id\": 38, \"population\": 757952, \"engineers\": 0.003403909, \"hurricanes\": 0}, {\"state\": \"Ohio\", \"id\": 39, \"population\": 11614373, \"engineers\": 0.004095787, \"hurricanes\": 0}, {\"state\": \"Oklahoma\", \"id\": 40, \"population\": 3923561, \"engineers\": 0.0022861879999999998, \"hurricanes\": 0}, {\"state\": \"Oregon\", \"id\": 41, \"population\": 4093465, \"engineers\": 0.005457479, \"hurricanes\": 0}, {\"state\": \"Pennsylvania\", \"id\": 42, \"population\": 12784227, \"engineers\": 0.004237253, \"hurricanes\": 1}, {\"state\": \"Rhode Island\", \"id\": 44, \"population\": 1056426, \"engineers\": 0.004581485, \"hurricanes\": 9}, {\"state\": \"South Carolina\", \"id\": 45, \"population\": 4961119, \"engineers\": 0.0020842070000000002, \"hurricanes\": 31}, {\"state\": \"South Dakota\", \"id\": 46, \"population\": 865454, \"engineers\": 0.003085086, \"hurricanes\": 0}, {\"state\": \"Tennessee\", \"id\": 47, \"population\": 6651194, \"engineers\": 0.0023755129999999997, \"hurricanes\": 0}, {\"state\": \"Texas\", \"id\": 48, \"population\": 27862596, \"engineers\": 0.004320129, \"hurricanes\": 59}, {\"state\": \"Utah\", \"id\": 49, \"population\": 3051217, \"engineers\": 0.006440053, \"hurricanes\": 0}, {\"state\": \"Vermont\", \"id\": 50, \"population\": 624594, \"engineers\": 0.004643016, \"hurricanes\": 0}, {\"state\": \"Virginia\", \"id\": 51, \"population\": 8411808, \"engineers\": 0.008595061, \"hurricanes\": 12}, {\"state\": \"Washington\", \"id\": 53, \"population\": 7288000, \"engineers\": 0.010710757, \"hurricanes\": 0}, {\"state\": \"West Virginia\", \"id\": 54, \"population\": 1831102, \"engineers\": 0.00128338, \"hurricanes\": 0}, {\"state\": \"Wisconsin\", \"id\": 55, \"population\": 5778708, \"engineers\": 0.0048211470000000005, \"hurricanes\": 0}, {\"state\": \"Wyoming\", \"id\": 56, \"population\": 585501, \"engineers\": 0.001007684, \"hurricanes\": 0}, {\"state\": \"Puerto Rico\", \"id\": 72, \"population\": 3411307, \"engineers\": 0.000773897, \"hurricanes\": 0}]}}, {\"mode\": \"vega-lite\"});\n</script>",
      "text/plain": [
       "alt.Chart(...)"
      ]
     },
     "metadata": {},
     "execution_count": 80
    }
   ],
   "source": [
    "states = alt.topo_feature(data.us_10m.url, 'states')\n",
    "source = data.population_engineers_hurricanes()\n",
    "\n",
    "alt.Chart(states).mark_geoshape().encode(\n",
    "    alt.Color('population', type='quantitative')\n",
    ").transform_lookup(\n",
    "    lookup='id',\n",
    "    from_=alt.LookupData(source, 'id', ['population'])\n",
    ").properties(\n",
    "    width=600,\n",
    "    height=400\n",
    ").project(\n",
    "    type='albersUsa'\n",
    ")"
   ]
  },
  {
   "cell_type": "code",
   "execution_count": null,
   "metadata": {},
   "outputs": [],
   "source": []
  }
 ]
}